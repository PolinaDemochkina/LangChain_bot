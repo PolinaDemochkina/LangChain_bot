{
 "cells": [
  {
   "cell_type": "code",
   "execution_count": 54,
   "metadata": {
    "ExecuteTime": {
     "end_time": "2023-11-16T11:02:53.284023075Z",
     "start_time": "2023-11-16T11:02:53.243468078Z"
    },
    "collapsed": false,
    "jupyter": {
     "outputs_hidden": false
    }
   },
   "outputs": [],
   "source": [
    "openai_api_key = \"\"\n",
    "gigachat_api_key = \"\"\n",
    "data_path = 'data/RuBQ_2.0_paragraphs.json'"
   ]
  },
  {
   "cell_type": "markdown",
   "metadata": {
    "collapsed": false,
    "jupyter": {
     "outputs_hidden": false
    }
   },
   "source": [
    "# Устанавливаем необходимые зависимости"
   ]
  },
  {
   "cell_type": "code",
   "execution_count": 2,
   "metadata": {
    "ExecuteTime": {
     "end_time": "2023-11-16T09:59:05.559387420Z",
     "start_time": "2023-11-16T09:58:59.234476086Z"
    },
    "colab": {
     "base_uri": "https://localhost:8080/"
    },
    "executionInfo": {
     "elapsed": 29626,
     "status": "ok",
     "timestamp": 1698920693445,
     "user": {
      "displayName": "Sergey B",
      "userId": "11340833845526825316"
     },
     "user_tz": -180
    },
    "id": "FFtSvMmMCtCS",
    "outputId": "e4dc9483-0bac-4d40-b8aa-9ddb678ed382"
   },
   "outputs": [],
   "source": [
    "! pip -q install langchain\n",
    "! pip -q install datasets\n",
    "! pip -q install faiss-cpu\n",
    "! pip -q install sentence-transformers"
   ]
  },
  {
   "cell_type": "code",
   "execution_count": 3,
   "metadata": {
    "ExecuteTime": {
     "end_time": "2023-11-16T09:59:32.635216615Z",
     "start_time": "2023-11-16T09:59:31.254360131Z"
    },
    "collapsed": false,
    "jupyter": {
     "outputs_hidden": false
    }
   },
   "outputs": [],
   "source": [
    "! pip -q install openai"
   ]
  },
  {
   "cell_type": "code",
   "execution_count": 4,
   "metadata": {
    "ExecuteTime": {
     "end_time": "2023-11-16T09:59:33.980315688Z",
     "start_time": "2023-11-16T09:59:32.639502120Z"
    },
    "collapsed": false,
    "jupyter": {
     "outputs_hidden": false
    }
   },
   "outputs": [],
   "source": [
    "! pip -q install tiktoken"
   ]
  },
  {
   "cell_type": "markdown",
   "metadata": {
    "id": "Fxfm2GRFLJhp"
   },
   "source": [
    "# Импортируем библиотеки"
   ]
  },
  {
   "cell_type": "code",
   "execution_count": 55,
   "metadata": {
    "ExecuteTime": {
     "end_time": "2023-11-16T11:02:56.810616025Z",
     "start_time": "2023-11-16T11:02:56.768990020Z"
    },
    "executionInfo": {
     "elapsed": 239,
     "status": "ok",
     "timestamp": 1698933454337,
     "user": {
      "displayName": "Sergey B",
      "userId": "11340833845526825316"
     },
     "user_tz": -180
    },
    "id": "Y6h4tzEnkLem"
   },
   "outputs": [],
   "source": [
    "import time\n",
    "import uuid\n",
    "import requests\n",
    "import os\n",
    "from langchain.llms.base import LLM\n",
    "from typing import Any, List, Mapping, Optional\n",
    "from langchain.callbacks.manager import CallbackManagerForLLMRun\n",
    "from requests.packages.urllib3.exceptions import InsecureRequestWarning\n",
    "from langchain.document_loaders import DataFrameLoader\n",
    "from langchain.embeddings import HuggingFaceEmbeddings, OpenAIEmbeddings\n",
    "import pandas as pd\n",
    "from langchain.prompts import PromptTemplate, FewShotPromptTemplate\n",
    "from langchain.chains import LLMChain, StuffDocumentsChain\n",
    "from langchain.prompts.example_selector import LengthBasedExampleSelector\n",
    "\n",
    "requests.packages.urllib3.disable_warnings(InsecureRequestWarning)"
   ]
  },
  {
   "cell_type": "markdown",
   "metadata": {
    "id": "NlLSSzAJLPCy"
   },
   "source": [
    "# Пишем кастомный класс получения токена авторизации для GigaChat"
   ]
  },
  {
   "cell_type": "code",
   "execution_count": 56,
   "metadata": {
    "ExecuteTime": {
     "end_time": "2023-11-16T11:02:58.063937983Z",
     "start_time": "2023-11-16T11:02:58.062729157Z"
    },
    "id": "WRXp8TEHCcwi"
   },
   "outputs": [],
   "source": [
    "class GigaChatSecureToken:\n",
    "    access_token: str\n",
    "    expires_at: int\n",
    "    _offset: int = 60  # If token will be expired in {offset} seconds, is_expired() return true\n",
    "\n",
    "    def __init__(self, access_token: str, expires_at: int):\n",
    "        self.access_token = access_token\n",
    "        self.expires_at = expires_at\n",
    "\n",
    "    def is_expired(self):\n",
    "        return round(time.time() * 1000) > self.expires_at + self._offset * 1000"
   ]
  },
  {
   "cell_type": "markdown",
   "metadata": {
    "id": "amuA5ofqLT1C"
   },
   "source": [
    "# Определяем кастомный класс для работы с API GigaChat"
   ]
  },
  {
   "cell_type": "code",
   "execution_count": 57,
   "metadata": {
    "ExecuteTime": {
     "end_time": "2023-11-16T11:02:58.649540223Z",
     "start_time": "2023-11-16T11:02:58.646507221Z"
    },
    "colab": {
     "base_uri": "https://localhost:8080/"
    },
    "executionInfo": {
     "elapsed": 2948,
     "status": "ok",
     "timestamp": 1698920771330,
     "user": {
      "displayName": "Sergey B",
      "userId": "11340833845526825316"
     },
     "user_tz": -180
    },
    "id": "C5Cp-2A-95hY",
    "outputId": "4f6d0141-c661-4bb8-d68f-44245a0b4645"
   },
   "outputs": [],
   "source": [
    "class GigaChatLLM(LLM):\n",
    "    api_key: str = None\n",
    "    temperature: float = 0.7\n",
    "    secure_token: GigaChatSecureToken = None\n",
    "\n",
    "    @property\n",
    "    def _llm_type(self) -> str:\n",
    "        return \"gigachat\"\n",
    "\n",
    "    def _call(\n",
    "        self,\n",
    "        prompt: str,\n",
    "        stop: Optional[List[str]] = None,\n",
    "        run_manager: Optional[CallbackManagerForLLMRun] = None,\n",
    "    ) -> str:\n",
    "        if not self.secure_token or self.secure_token.is_expired():\n",
    "            print(\"Obtaining new secure token\")\n",
    "            self._auth()\n",
    "            if not self.secure_token or self.secure_token.is_expired():\n",
    "                # New token was not obtained\n",
    "                print(\"ERROR: new token was not updated, cannot call LLM\")\n",
    "                return \"\"\n",
    "        headers = {\n",
    "            \"Authorization\": f\"Bearer {self.secure_token.access_token}\",\n",
    "            \"Content-Type\": \"application/json\"\n",
    "        }\n",
    "        req = {\n",
    "            \"model\": \"GigaChat:latest\",\n",
    "            \"messages\": [{\n",
    "                \"role\": \"user\",\n",
    "                \"content\": prompt\n",
    "            }],\n",
    "            \"temperature\": self.temperature\n",
    "        }\n",
    "        response = requests.post(\"https://gigachat.devices.sberbank.ru/api/v1/chat/completions\", headers=headers, json=req, verify=False)\n",
    "        if response.status_code != 200:\n",
    "            print(f\"ERROR: LLM call failed, status code: {response.status_code}\")\n",
    "            return \"\"\n",
    "        return response.json()[\"choices\"][0][\"message\"][\"content\"]\n",
    "\n",
    "    def _auth(self):\n",
    "        headers = {\n",
    "            \"Authorization\": f\"Bearer {self.api_key}\",\n",
    "            \"RqUID\": str(uuid.uuid4()),\n",
    "            \"Content-Type\": \"application/x-www-form-urlencoded\"\n",
    "        }\n",
    "\n",
    "        scope_info = {\"scope\": \"GIGACHAT_API_PERS\"}\n",
    "        response = requests.post(\"https://ngw.devices.sberbank.ru:9443/api/v2/oauth\", data=scope_info, headers=headers, verify=False)\n",
    "        if response.status_code != 200:\n",
    "            print(f\"ERROR: Something went wrong while obtaining secure token, status code: {response.status_code}\")\n",
    "            return\n",
    "        content = response.json()\n",
    "\n",
    "        expires_at = content[\"expires_at\"]\n",
    "        token = content[\"access_token\"]\n",
    "        if not (expires_at and token):\n",
    "            print(\"ERROR: server returns empty values for fields 'expires_at' or 'access_token'\")\n",
    "            return\n",
    "        self.secure_token = GigaChatSecureToken(token, expires_at)\n",
    "\n",
    "\n",
    "llm = GigaChatLLM(api_key=gigachat_api_key)"
   ]
  },
  {
   "cell_type": "code",
   "execution_count": 58,
   "metadata": {
    "ExecuteTime": {
     "end_time": "2023-11-16T11:03:01.067477049Z",
     "start_time": "2023-11-16T11:02:59.337941722Z"
    },
    "colab": {
     "base_uri": "https://localhost:8080/",
     "height": 36
    },
    "executionInfo": {
     "elapsed": 1893,
     "status": "ok",
     "timestamp": 1698930881885,
     "user": {
      "displayName": "Sergey B",
      "userId": "11340833845526825316"
     },
     "user_tz": -180
    },
    "id": "34-LDS8iDkFS",
    "outputId": "b6495270-24cb-4c0e-b66f-59b7a4eb9a07"
   },
   "outputs": [
    {
     "name": "stdout",
     "output_type": "stream",
     "text": [
      "Obtaining new secure token\n"
     ]
    },
    {
     "data": {
      "text/plain": [
       "'Если мы возьмём число 5 и возведём его в квадрат, то получим 25.'"
      ]
     },
     "execution_count": 58,
     "metadata": {},
     "output_type": "execute_result"
    }
   ],
   "source": [
    "llm(prompt=\"Пусть a = 5.  Сколько будет a в квадрате\")"
   ]
  },
  {
   "cell_type": "markdown",
   "metadata": {
    "id": "RGl0Em1ILaq-"
   },
   "source": [
    "# Загружаем датасет"
   ]
  },
  {
   "cell_type": "code",
   "execution_count": 59,
   "metadata": {
    "ExecuteTime": {
     "end_time": "2023-11-16T11:03:01.374818848Z",
     "start_time": "2023-11-16T11:03:01.066896356Z"
    },
    "executionInfo": {
     "elapsed": 753,
     "status": "ok",
     "timestamp": 1698931334352,
     "user": {
      "displayName": "Sergey B",
      "userId": "11340833845526825316"
     },
     "user_tz": -180
    },
    "id": "0is1CYMtKNyo"
   },
   "outputs": [],
   "source": [
    "dataframe = pd.read_json(data_path)"
   ]
  },
  {
   "cell_type": "code",
   "execution_count": 60,
   "metadata": {
    "ExecuteTime": {
     "end_time": "2023-11-16T11:03:01.380455768Z",
     "start_time": "2023-11-16T11:03:01.377513591Z"
    },
    "collapsed": false,
    "jupyter": {
     "outputs_hidden": false
    }
   },
   "outputs": [
    {
     "data": {
      "text/html": [
       "<div>\n",
       "<style scoped>\n",
       "    .dataframe tbody tr th:only-of-type {\n",
       "        vertical-align: middle;\n",
       "    }\n",
       "\n",
       "    .dataframe tbody tr th {\n",
       "        vertical-align: top;\n",
       "    }\n",
       "\n",
       "    .dataframe thead th {\n",
       "        text-align: right;\n",
       "    }\n",
       "</style>\n",
       "<table border=\"1\" class=\"dataframe\">\n",
       "  <thead>\n",
       "    <tr style=\"text-align: right;\">\n",
       "      <th></th>\n",
       "      <th>uid</th>\n",
       "      <th>ru_wiki_pageid</th>\n",
       "      <th>text</th>\n",
       "    </tr>\n",
       "  </thead>\n",
       "  <tbody>\n",
       "    <tr>\n",
       "      <th>0</th>\n",
       "      <td>0</td>\n",
       "      <td>58311</td>\n",
       "      <td>ЦСКА — советский и российский профессиональный...</td>\n",
       "    </tr>\n",
       "    <tr>\n",
       "      <th>1</th>\n",
       "      <td>1</td>\n",
       "      <td>58311</td>\n",
       "      <td>В первом сезоне в составе Континентальной хокк...</td>\n",
       "    </tr>\n",
       "    <tr>\n",
       "      <th>2</th>\n",
       "      <td>2</td>\n",
       "      <td>58311</td>\n",
       "      <td>В межсезонье 1992 года «армейскую» команду пок...</td>\n",
       "    </tr>\n",
       "    <tr>\n",
       "      <th>3</th>\n",
       "      <td>3</td>\n",
       "      <td>58311</td>\n",
       "      <td>Однако ни Тихонов, ни Гущин, не согласились с ...</td>\n",
       "    </tr>\n",
       "    <tr>\n",
       "      <th>4</th>\n",
       "      <td>4</td>\n",
       "      <td>58311</td>\n",
       "      <td>ЦСКА Александра Волчкова сезон 1996/97 провел ...</td>\n",
       "    </tr>\n",
       "    <tr>\n",
       "      <th>...</th>\n",
       "      <td>...</td>\n",
       "      <td>...</td>\n",
       "      <td>...</td>\n",
       "    </tr>\n",
       "    <tr>\n",
       "      <th>56947</th>\n",
       "      <td>56947</td>\n",
       "      <td>2562355</td>\n",
       "      <td>Кузнец Вакула (соч. 14) ― опера Петра Чайковск...</td>\n",
       "    </tr>\n",
       "    <tr>\n",
       "      <th>56948</th>\n",
       "      <td>56948</td>\n",
       "      <td>76411</td>\n",
       "      <td>Трое приятелей: Джи, Харрис и Джордж, устав от...</td>\n",
       "    </tr>\n",
       "    <tr>\n",
       "      <th>56949</th>\n",
       "      <td>56949</td>\n",
       "      <td>271647</td>\n",
       "      <td>Корри́да (исп. Corrida) — наиболее распростран...</td>\n",
       "    </tr>\n",
       "    <tr>\n",
       "      <th>56950</th>\n",
       "      <td>56950</td>\n",
       "      <td>160718</td>\n",
       "      <td>События, которые легли в основу сценария, до и...</td>\n",
       "    </tr>\n",
       "    <tr>\n",
       "      <th>56951</th>\n",
       "      <td>56951</td>\n",
       "      <td>276342</td>\n",
       "      <td>Сражение является важнейшей частью стратегичес...</td>\n",
       "    </tr>\n",
       "  </tbody>\n",
       "</table>\n",
       "<p>56952 rows × 3 columns</p>\n",
       "</div>"
      ],
      "text/plain": [
       "         uid  ru_wiki_pageid  \\\n",
       "0          0           58311   \n",
       "1          1           58311   \n",
       "2          2           58311   \n",
       "3          3           58311   \n",
       "4          4           58311   \n",
       "...      ...             ...   \n",
       "56947  56947         2562355   \n",
       "56948  56948           76411   \n",
       "56949  56949          271647   \n",
       "56950  56950          160718   \n",
       "56951  56951          276342   \n",
       "\n",
       "                                                    text  \n",
       "0      ЦСКА — советский и российский профессиональный...  \n",
       "1      В первом сезоне в составе Континентальной хокк...  \n",
       "2      В межсезонье 1992 года «армейскую» команду пок...  \n",
       "3      Однако ни Тихонов, ни Гущин, не согласились с ...  \n",
       "4      ЦСКА Александра Волчкова сезон 1996/97 провел ...  \n",
       "...                                                  ...  \n",
       "56947  Кузнец Вакула (соч. 14) ― опера Петра Чайковск...  \n",
       "56948  Трое приятелей: Джи, Харрис и Джордж, устав от...  \n",
       "56949  Корри́да (исп. Corrida) — наиболее распростран...  \n",
       "56950  События, которые легли в основу сценария, до и...  \n",
       "56951  Сражение является важнейшей частью стратегичес...  \n",
       "\n",
       "[56952 rows x 3 columns]"
      ]
     },
     "execution_count": 60,
     "metadata": {},
     "output_type": "execute_result"
    }
   ],
   "source": [
    "dataframe"
   ]
  },
  {
   "cell_type": "code",
   "execution_count": 61,
   "metadata": {
    "ExecuteTime": {
     "end_time": "2023-11-16T11:03:02.273872345Z",
     "start_time": "2023-11-16T11:03:02.270222121Z"
    },
    "executionInfo": {
     "elapsed": 235,
     "status": "ok",
     "timestamp": 1698931424875,
     "user": {
      "displayName": "Sergey B",
      "userId": "11340833845526825316"
     },
     "user_tz": -180
    },
    "id": "8lq3bIkQKnZ4"
   },
   "outputs": [],
   "source": [
    "dataframe = dataframe.dropna()\n",
    "dataframe = dataframe[['text']]"
   ]
  },
  {
   "cell_type": "code",
   "execution_count": 62,
   "metadata": {
    "ExecuteTime": {
     "end_time": "2023-11-16T11:03:03.179989700Z",
     "start_time": "2023-11-16T11:03:03.177314604Z"
    },
    "collapsed": false,
    "jupyter": {
     "outputs_hidden": false
    }
   },
   "outputs": [
    {
     "data": {
      "text/html": [
       "<div>\n",
       "<style scoped>\n",
       "    .dataframe tbody tr th:only-of-type {\n",
       "        vertical-align: middle;\n",
       "    }\n",
       "\n",
       "    .dataframe tbody tr th {\n",
       "        vertical-align: top;\n",
       "    }\n",
       "\n",
       "    .dataframe thead th {\n",
       "        text-align: right;\n",
       "    }\n",
       "</style>\n",
       "<table border=\"1\" class=\"dataframe\">\n",
       "  <thead>\n",
       "    <tr style=\"text-align: right;\">\n",
       "      <th></th>\n",
       "      <th>text</th>\n",
       "    </tr>\n",
       "  </thead>\n",
       "  <tbody>\n",
       "    <tr>\n",
       "      <th>0</th>\n",
       "      <td>ЦСКА — советский и российский профессиональный...</td>\n",
       "    </tr>\n",
       "    <tr>\n",
       "      <th>1</th>\n",
       "      <td>В первом сезоне в составе Континентальной хокк...</td>\n",
       "    </tr>\n",
       "    <tr>\n",
       "      <th>2</th>\n",
       "      <td>В межсезонье 1992 года «армейскую» команду пок...</td>\n",
       "    </tr>\n",
       "    <tr>\n",
       "      <th>3</th>\n",
       "      <td>Однако ни Тихонов, ни Гущин, не согласились с ...</td>\n",
       "    </tr>\n",
       "    <tr>\n",
       "      <th>4</th>\n",
       "      <td>ЦСКА Александра Волчкова сезон 1996/97 провел ...</td>\n",
       "    </tr>\n",
       "    <tr>\n",
       "      <th>...</th>\n",
       "      <td>...</td>\n",
       "    </tr>\n",
       "    <tr>\n",
       "      <th>56947</th>\n",
       "      <td>Кузнец Вакула (соч. 14) ― опера Петра Чайковск...</td>\n",
       "    </tr>\n",
       "    <tr>\n",
       "      <th>56948</th>\n",
       "      <td>Трое приятелей: Джи, Харрис и Джордж, устав от...</td>\n",
       "    </tr>\n",
       "    <tr>\n",
       "      <th>56949</th>\n",
       "      <td>Корри́да (исп. Corrida) — наиболее распростран...</td>\n",
       "    </tr>\n",
       "    <tr>\n",
       "      <th>56950</th>\n",
       "      <td>События, которые легли в основу сценария, до и...</td>\n",
       "    </tr>\n",
       "    <tr>\n",
       "      <th>56951</th>\n",
       "      <td>Сражение является важнейшей частью стратегичес...</td>\n",
       "    </tr>\n",
       "  </tbody>\n",
       "</table>\n",
       "<p>56952 rows × 1 columns</p>\n",
       "</div>"
      ],
      "text/plain": [
       "                                                    text\n",
       "0      ЦСКА — советский и российский профессиональный...\n",
       "1      В первом сезоне в составе Континентальной хокк...\n",
       "2      В межсезонье 1992 года «армейскую» команду пок...\n",
       "3      Однако ни Тихонов, ни Гущин, не согласились с ...\n",
       "4      ЦСКА Александра Волчкова сезон 1996/97 провел ...\n",
       "...                                                  ...\n",
       "56947  Кузнец Вакула (соч. 14) ― опера Петра Чайковск...\n",
       "56948  Трое приятелей: Джи, Харрис и Джордж, устав от...\n",
       "56949  Корри́да (исп. Corrida) — наиболее распростран...\n",
       "56950  События, которые легли в основу сценария, до и...\n",
       "56951  Сражение является важнейшей частью стратегичес...\n",
       "\n",
       "[56952 rows x 1 columns]"
      ]
     },
     "execution_count": 62,
     "metadata": {},
     "output_type": "execute_result"
    }
   ],
   "source": [
    "dataframe"
   ]
  },
  {
   "cell_type": "markdown",
   "metadata": {
    "id": "kQSR3ZHWNb_e"
   },
   "source": [
    "# Трансформируем датафрейм в датафреймлоадер langchain. page_content_column в нашем случае поле text, так как именно над ним мы будем проводить векторизацию"
   ]
  },
  {
   "cell_type": "code",
   "execution_count": 63,
   "metadata": {
    "ExecuteTime": {
     "end_time": "2023-11-16T11:03:06.878116706Z",
     "start_time": "2023-11-16T11:03:04.635859543Z"
    },
    "executionInfo": {
     "elapsed": 8721,
     "status": "ok",
     "timestamp": 1698931501448,
     "user": {
      "displayName": "Sergey B",
      "userId": "11340833845526825316"
     },
     "user_tz": -180
    },
    "id": "MHwwNoANGtqQ"
   },
   "outputs": [],
   "source": [
    "loader = DataFrameLoader(dataframe, page_content_column = 'text')\n",
    "data = loader.load()"
   ]
  },
  {
   "cell_type": "code",
   "execution_count": 64,
   "metadata": {
    "ExecuteTime": {
     "end_time": "2023-11-16T11:03:06.878935215Z",
     "start_time": "2023-11-16T11:03:06.870571300Z"
    },
    "colab": {
     "base_uri": "https://localhost:8080/"
    },
    "executionInfo": {
     "elapsed": 756,
     "status": "ok",
     "timestamp": 1698933612279,
     "user": {
      "displayName": "Sergey B",
      "userId": "11340833845526825316"
     },
     "user_tz": -180
    },
    "id": "D2xMAobYIAE8",
    "outputId": "45b23f09-e99b-4ded-c368-c53f68e459dc"
   },
   "outputs": [
    {
     "data": {
      "text/plain": [
       "[Document(page_content='ЦСКА — советский и российский профессиональный хоккейный клуб из Москвы, выступающий в Континентальной хоккейной лиге. Основан в 1946 году под названием ЦДКА (Центральный дом Красной Армии). В 1951 году переименован в ЦДСА (Центральный дом Советской Армии), а в 1954 в ЦСК МО (Центральный спортивный клуб Министерства обороны), под которым выступал до 1959 года, и с тех пор носит название ЦСКА (Центральный Спортивный Клуб Армии).'),\n",
       " Document(page_content='В первом сезоне в составе Континентальной хоккейной лиги ЦСКА выиграл дивизион Тарасова, но в плей-офф с трудом обыграл «Ладу» (3-2 по сумме встреч) и всухую проиграл «Динамо» (0-3). В конце сезона тренерский тандем Быков-Захаркин покинул команду, аргументировав своё решение желанием сосредоточиться на работе в сборной России, однако уже через несколько недель подписали контракт с командой «Салават Юлаев», таким образом продолжив совмещать работу в сборной и в клубе.'),\n",
       " Document(page_content='В межсезонье 1992 года «армейскую» команду покинули все лидеры, а Министерство обороны уже Российской Федерации, находясь в тяжелейшем финансовом и организационном положении, не могло оказать своей штатной команде ровным счетом никакой помощи. «Армейский» хоккей рухнул. Сезон 1992/93 стал самым черным в истории ЦСКА. Команда заняла предпоследнее место в первом чемпионате Межнациональной хоккейной лиги, и, казалось, что для хоккейного клуба скоро все кончится печально. Однако в июле 1993 года состоялось неожиданное событие. Хоккейный клуб ЦСКА подписал договор о сотрудничестве с Хоккейным клубом НХЛ «Питтсбург Пингвинз». Хозяева «Пингвинов», входившие со своим бизнесом на зарождающийся российский рынок, приняли решение продвигаться в Россию через хоккей. И лучшего кандидата, чем ЦСКА, придумать не могли. Благодаря деньгам «Пингвинов», ЦСКА постепенно начал оживать. Безусловно, сотрудничество носило обоюдовыгодный характер. Хозяева «Питтсбурга» получали некоторые привилегии в отношении перехода воспитанников хоккейного клуба в свою организацию. В одной из североамериканских лиг была учреждена команда «Russian Pinguins», где выступали игроки ЦСКА.'),\n",
       " Document(page_content='Однако ни Тихонов, ни Гущин, не согласились с решениями Министра обороны, и своей отставки не признали. Сохраняя права на бренд «ЦСКА», и на частную фирму ООО «ХК ЦСКА», учрежденную в 1993 году для проведения коммерческой деятельности, уже бывшие руководители клуба заявили «ХК ЦСКА» в качестве участника образовавшейся Российской Хоккейной Лиги. Совет РХЛ, по итогам прений, принял решение о включении в соревнования среди команд Суперлиги именно тихоновский «ХК ЦСКА».'),\n",
       " Document(page_content='ЦСКА Александра Волчкова сезон 1996/97 провел в Высшей лиге, и по итогам турнира завоевал путевку в Суперлигу. В сезоне 1996/97 в Суперлиге РХЛ выступали два ЦСКА. Между командами состоялось два дерби, победу в которых оба раза одержал ЦСКА Волчкова. По итогам сезона 1997/98 ЦСКА сохранил прописку в Суперлиге, ХК ЦСКА же вылетел в Высшую лигу, где провел следующие 4 сезона. Тогда же, в 1998 году, Виктор Тихонов предпринял первые шаги к объединению двух клубов, однако его инициатива не увенчалась успехом. ')]"
      ]
     },
     "execution_count": 64,
     "metadata": {},
     "output_type": "execute_result"
    }
   ],
   "source": [
    "data[:5]"
   ]
  },
  {
   "cell_type": "code",
   "execution_count": 65,
   "metadata": {
    "ExecuteTime": {
     "end_time": "2023-11-16T11:03:07.092952774Z",
     "start_time": "2023-11-16T11:03:06.872935059Z"
    },
    "collapsed": false,
    "jupyter": {
     "outputs_hidden": false
    }
   },
   "outputs": [],
   "source": [
    "token_counts_max = dataframe['text'].str.split().str.len().max()"
   ]
  },
  {
   "cell_type": "markdown",
   "metadata": {
    "id": "W6aZS6_1Ntf_"
   },
   "source": [
    "# Определяем модель для эмбеддингов"
   ]
  },
  {
   "cell_type": "code",
   "execution_count": 67,
   "metadata": {
    "ExecuteTime": {
     "end_time": "2023-11-16T11:03:25.410677595Z",
     "start_time": "2023-11-16T11:03:23.028381772Z"
    },
    "colab": {
     "base_uri": "https://localhost:8080/",
     "height": 330,
     "referenced_widgets": [
      "d63e564c321f4b0e8134f9213068361d",
      "8065e1ab10214974a308d6c6faf072e4",
      "4341e1aa7cb74904854a0932d4759017",
      "836ef00d7c364eb38997a3cb6d02ec60",
      "7572d73d837f4d05a848f52f3849dda7",
      "85e52d70bac4447bb8c21401a08ceeac",
      "910b29e363664854a9184122127d347e",
      "aca06dacc5e0450388f2723ffab161bc",
      "338fd6054bbc4935b9a1292b91094e46",
      "37bc740a134242438ece69f314326c6f",
      "4ea9c3fd3f064031bd1591bdb98a8053",
      "4182203cd08846d8b99a6ac0f72234e0",
      "b2c53a6472c2404680e8921994043e8f",
      "4cf18eac413146df9b13eb5f82fe0720",
      "508b8bc3ce3e47ed8c6fb8335df67dd2",
      "3c21583041ed44f2b4a07f91756a5d64",
      "b83881b4fe594618bd38858bd50a8c4c",
      "ee8db8074048422590b9e22b8b0ce2c1",
      "e7265d7fa97740be990ba182eb182286",
      "d3401a8aa2d54eef8868a462513dd69a",
      "f3a7e9e4ca57425fa648f7fd7f4a829d",
      "07e2febd4da64c5a850703f93d85659d",
      "1269b7840d89491b82074c5fb7343244",
      "7db9cd0d4080442e855ff617c3ea3c62",
      "9c700bc72b864d3aae5a61c511cf0966",
      "a8acad3f5d1a4fe59e97962c0988243e",
      "6a0b1488cb764348b465c4f10aecc3a7",
      "805431a05c64485893d63d389f6a5c1a",
      "62a5605b6d9f4a86bc3ab989d0b9c1ad",
      "c34d64da272148b788ae48d8bfcf5e5e",
      "16c721e5b3524b14a1897b7f0bc7a17c",
      "31f50a71e2be498a8e44c9f42815e218",
      "2b3a068f79d9452184fe4a670e7126d6",
      "a934882b634e42f0a3b53889c4b2f3e8",
      "6302127be9ee4ffcbc24f265966d359c",
      "2a497131f9dc44dfbf7c4d7f30b53c86",
      "71a0d72d5e184878b8f749cdccca1b0f",
      "e39b9a046ee84468bfd1ad45a217c491",
      "a9a047c4fc7f47e0b559e8a3cef40552",
      "18ae79fbc4fd40188947b32f30f04988",
      "88ed526c60424408b309d0423e6243d4",
      "4dae5da3647d4bd2a0314b07832795c2",
      "e1d3789407fd4559bc1b12f5d728c99f",
      "e1361cd4ebcc4302b5733ee6d5b1cc2d",
      "28a5a59e42d846eea21756bc81178234",
      "f2eb8bb336a04812ba56c9fcb1b9b2c9",
      "c19ccbcd5f90429fb1a14f0f890a0243",
      "2e6447bb61f44ec9bc5198a661bef207",
      "136532e5a9a9483584eafa86db2aa063",
      "330b9a991a354525a237293657e0e982",
      "cae35a39ad464fb4899299115641ba73",
      "7ecd0bda7cd44754b2aa84d9d69bd3de",
      "3990dec9d08a4ac0a8a7811cc1b82c62",
      "1b79ae6da2f44695bc376efe33e73fdc",
      "295e49a6cd2e4b3a8f2952cfcdea930f",
      "5cc40b3f0e804820824b527a329f1f36",
      "20db5c42a69a45c08f518cda2e331034",
      "1bcd236f3d25433590f654b9aae17bd8",
      "4d22b0bacd454011ab17f33abe7f1cb9",
      "0630387af2b741619c678ca694f83c75",
      "cf0edab4453c48d29cc6a00d12899011",
      "fcb5571e971744cdbfe7f649e785e8c4",
      "ee49caa26daa4d01b1e172ea8b946940",
      "c1545874a2d04cafab346c8b8597ad01",
      "10385bbeffd043e9bc9d72589625789a",
      "c5bd4b0a6e41446d96d1c55a8937a515",
      "59d7df590098472fb032dc6a2400d080",
      "e668b60dc06d458589489b75d4ee2dce",
      "d4016712463c4a009e84edaf7d652973",
      "52f78082638a4f03b5de3fb406f00a33",
      "f89cf4a5fba642a5aaac06789e947d36",
      "6d7fc37497624efbb44bb80709fce3dc",
      "2025ca14d46e449f9a4662a97f8e131e",
      "b7c610ff6c1b45068e13e83824ab5525",
      "c7e351b0b47d4c48ad90ae935aa7aab7",
      "8f092ec7cc294e54abc07e72dc984082",
      "b4f83a106a5d4443820d2327cc9b8d85"
     ]
    },
    "executionInfo": {
     "elapsed": 14133,
     "status": "ok",
     "timestamp": 1698931937644,
     "user": {
      "displayName": "Sergey B",
      "userId": "11340833845526825316"
     },
     "user_tz": -180
    },
    "id": "8TtCzT8OLYZ4",
    "outputId": "4ac3d337-3a4c-45be-ab49-48f7b70eb45f"
   },
   "outputs": [],
   "source": [
    "# embedding_type = 'openai'\n",
    "embedding_type = 'cointegrated/LaBSE-en-ru'\n",
    "\n",
    "if embedding_type == 'openai':\n",
    "    openai_batch_size = int(150000 / token_counts_max)\n",
    "    embeddings = OpenAIEmbeddings(openai_api_key = openai_api_key, chunk_size = openai_batch_size)\n",
    "else:\n",
    "    embeddings = HuggingFaceEmbeddings(model_name=embedding_type)"
   ]
  },
  {
   "cell_type": "markdown",
   "metadata": {
    "id": "zIK8xc9WPmEU"
   },
   "source": [
    "# Загружаем эмбеддинги в векторную бд"
   ]
  },
  {
   "cell_type": "code",
   "execution_count": 69,
   "metadata": {
    "ExecuteTime": {
     "end_time": "2023-11-16T11:08:42.308170351Z",
     "start_time": "2023-11-16T11:06:52.249896063Z"
    },
    "executionInfo": {
     "elapsed": 208802,
     "status": "ok",
     "timestamp": 1698933225685,
     "user": {
      "displayName": "Sergey B",
      "userId": "11340833845526825316"
     },
     "user_tz": -180
    },
    "id": "kZ2jQQDBMY8M"
   },
   "outputs": [],
   "source": [
    "from langchain import FAISS\n",
    "from faiss import IndexHNSWFlat\n",
    "from time import sleep\n",
    "from tqdm import tqdm\n",
    "\n",
    "index_name = f'{data_path}_{embedding_type}'\n",
    "\n",
    "index = IndexHNSWFlat()\n",
    "faiss = FAISS(embeddings, index, None, None)\n",
    "\n",
    "try:\n",
    "    db = FAISS.load_local(index_name, embeddings)\n",
    "except:\n",
    "    db = None\n",
    "\n",
    "if db is None:\n",
    "    if embedding_type == 'openai':\n",
    "        for batch_number in tqdm(range(0, len(data), openai_batch_size)):\n",
    "            batch = data[batch_number: batch_number + openai_batch_size]\n",
    "            batch_db = faiss.from_documents(batch, embeddings)\n",
    "            if db is None:\n",
    "                db = batch_db\n",
    "            else:\n",
    "                db.merge_from(batch_db)\n",
    "\n",
    "            sleep(20)\n",
    "    else:\n",
    "        db = faiss.from_documents(data, embeddings)\n",
    "\n",
    "    db.save_local(index_name)"
   ]
  },
  {
   "cell_type": "code",
   "execution_count": 70,
   "metadata": {
    "ExecuteTime": {
     "end_time": "2023-11-16T11:08:42.354433255Z",
     "start_time": "2023-11-16T11:08:42.353938871Z"
    },
    "colab": {
     "base_uri": "https://localhost:8080/"
    },
    "executionInfo": {
     "elapsed": 247,
     "status": "ok",
     "timestamp": 1698934967995,
     "user": {
      "displayName": "Sergey B",
      "userId": "11340833845526825316"
     },
     "user_tz": -180
    },
    "id": "1qDeb0pMNgJm",
    "outputId": "f6bc6e83-bc01-4594-dfaf-1a7a19d9e568"
   },
   "outputs": [
    {
     "data": {
      "text/plain": [
       "[Document(page_content='В 1861 году немецкий физик и изобретатель Иоганн Филипп Рейс продемонстрировал другое устройство, которое также могло передавать музыкальные тона и человеческую речь по проводам. Аппарат имел микрофон оригинальной конструкции, источник питания (гальваническую батарею, или - \"местную батарею\" МБ) и динамик. Сам Рейс назвал сконструированное им устройство Telephone.'),\n",
       " Document(page_content='В 1876 году он получил патент США № 174465, описывающий «метод и аппарат… для передачи речи и других звуков по телеграфу… с помощью электрических волн». Фактически речь шла о телефоне. Кроме того, Белл вёл работы по использованию в телекоммуникации светового луча — направление, впоследствии приведшее к созданию волоконно-оптических технологий.'),\n",
       " Document(page_content='Александр Белл (1847—1922), американский учёный, изобретатель и бизнесмен шотландского происхождения, один из основоположников телефонии.'),\n",
       " Document(page_content='Первый проект телефона, носивший кодовое название «Purple One», не был доведён до конца.'),\n",
       " Document(page_content='Когда Конгресс США признал Антонио Меуччи первым изобретателем телефона, в самой Италии по этому поводу выпущена специальная почтовая марка, сообщает «Российская научная газета».')]"
      ]
     },
     "execution_count": 70,
     "metadata": {},
     "output_type": "execute_result"
    }
   ],
   "source": [
    "query = \"Кто изобрел телефон?\"\n",
    "db.similarity_search(query, k=5)"
   ]
  },
  {
   "cell_type": "markdown",
   "metadata": {
    "id": "FX0NLOyPTKNe"
   },
   "source": [
    "# Определяем ретривер - верхнеуровневую обертку над similarity_search, в которую захардкожены какие-то параметры (в нашем случае 5 ближайших соседей)"
   ]
  },
  {
   "cell_type": "code",
   "execution_count": 71,
   "metadata": {
    "ExecuteTime": {
     "end_time": "2023-11-16T11:08:42.354690706Z",
     "start_time": "2023-11-16T11:08:42.354303748Z"
    },
    "colab": {
     "base_uri": "https://localhost:8080/"
    },
    "executionInfo": {
     "elapsed": 259,
     "status": "ok",
     "timestamp": 1698934996818,
     "user": {
      "displayName": "Sergey B",
      "userId": "11340833845526825316"
     },
     "user_tz": -180
    },
    "id": "PCe3IK9mpNln",
    "outputId": "58621a01-8a2a-4682-ec0c-b1d91b2b5e05"
   },
   "outputs": [
    {
     "data": {
      "text/plain": [
       "[Document(page_content='В 1861 году немецкий физик и изобретатель Иоганн Филипп Рейс продемонстрировал другое устройство, которое также могло передавать музыкальные тона и человеческую речь по проводам. Аппарат имел микрофон оригинальной конструкции, источник питания (гальваническую батарею, или - \"местную батарею\" МБ) и динамик. Сам Рейс назвал сконструированное им устройство Telephone.'),\n",
       " Document(page_content='В 1876 году он получил патент США № 174465, описывающий «метод и аппарат… для передачи речи и других звуков по телеграфу… с помощью электрических волн». Фактически речь шла о телефоне. Кроме того, Белл вёл работы по использованию в телекоммуникации светового луча — направление, впоследствии приведшее к созданию волоконно-оптических технологий.'),\n",
       " Document(page_content='Александр Белл (1847—1922), американский учёный, изобретатель и бизнесмен шотландского происхождения, один из основоположников телефонии.'),\n",
       " Document(page_content='Первый проект телефона, носивший кодовое название «Purple One», не был доведён до конца.'),\n",
       " Document(page_content='Когда Конгресс США признал Антонио Меуччи первым изобретателем телефона, в самой Италии по этому поводу выпущена специальная почтовая марка, сообщает «Российская научная газета».')]"
      ]
     },
     "execution_count": 71,
     "metadata": {},
     "output_type": "execute_result"
    }
   ],
   "source": [
    "retriever = db.as_retriever(search_kwargs = {\"k\": 5})\n",
    "retriever.get_relevant_documents(query)"
   ]
  },
  {
   "cell_type": "markdown",
   "metadata": {
    "id": "GjRyQLeXTejV"
   },
   "source": [
    "# Определяем шаблонизатор промпта"
   ]
  },
  {
   "cell_type": "code",
   "execution_count": 72,
   "metadata": {
    "ExecuteTime": {
     "end_time": "2023-11-16T11:08:42.356688840Z",
     "start_time": "2023-11-16T11:08:42.355254773Z"
    },
    "collapsed": false,
    "jupyter": {
     "outputs_hidden": false
    }
   },
   "outputs": [],
   "source": [
    "prefix = \"\"\"\n",
    "Ответь на вопрос: {query}\n",
    "\n",
    "У меня есть некоторая информация, которая может тебе помочь. Если она релевантна вопросу - используй ее в качестве источника правды:\n",
    "\"\"\"\n",
    "\n",
    "context_example_template = \"\"\"\n",
    "{context}\n",
    "\"\"\"\n",
    "\n",
    "suffix = \"\""
   ]
  },
  {
   "cell_type": "markdown",
   "metadata": {
    "collapsed": false,
    "jupyter": {
     "outputs_hidden": false
    }
   },
   "source": [
    "# Определяем пайплайн промпт template -> языковая модель"
   ]
  },
  {
   "cell_type": "markdown",
   "metadata": {
    "id": "pnxB_hm7U2hh"
   },
   "source": [
    "# Объединяем все в одну функцию"
   ]
  },
  {
   "cell_type": "code",
   "execution_count": 73,
   "metadata": {
    "ExecuteTime": {
     "end_time": "2023-11-16T11:08:42.371753585Z",
     "start_time": "2023-11-16T11:08:42.357818146Z"
    },
    "executionInfo": {
     "elapsed": 241,
     "status": "ok",
     "timestamp": 1698935176546,
     "user": {
      "displayName": "Sergey B",
      "userId": "11340833845526825316"
     },
     "user_tz": -180
    },
    "id": "I-WX322sFlTV"
   },
   "outputs": [],
   "source": [
    "from typing import Tuple\n",
    "\n",
    "\n",
    "def get_answer(question: str) -> Tuple[str, str]:\n",
    "  res = retriever.get_relevant_documents(question)\n",
    "  examples = [{\"context\": doc.page_content} for doc in res ]\n",
    "  context_example_template_prompt = PromptTemplate(\n",
    "      input_variables=[\"context\"],\n",
    "      template=context_example_template\n",
    "  )\n",
    "\n",
    "  example_selector = LengthBasedExampleSelector(\n",
    "    examples=examples,\n",
    "    example_prompt=context_example_template_prompt,\n",
    "    max_length=900\n",
    "  )\n",
    "\n",
    "  few_shot_prompt_template_prompt = FewShotPromptTemplate(\n",
    "    example_selector = example_selector,\n",
    "    example_prompt=context_example_template_prompt,\n",
    "    prefix=prefix,\n",
    "    suffix=suffix,\n",
    "    input_variables=[\"query\"],\n",
    "    example_separator=\"\\n\"\n",
    "  )\n",
    "\n",
    "  chain = few_shot_prompt_template_prompt | llm\n",
    "\n",
    "  answer = chain.invoke({ \"query\": question })\n",
    "\n",
    "\n",
    "  prompt = few_shot_prompt_template_prompt.format(query = question)\n",
    "  return answer, prompt"
   ]
  },
  {
   "cell_type": "code",
   "execution_count": 74,
   "metadata": {
    "ExecuteTime": {
     "end_time": "2023-11-16T11:08:44.486985187Z",
     "start_time": "2023-11-16T11:08:42.372435877Z"
    },
    "colab": {
     "base_uri": "https://localhost:8080/"
    },
    "executionInfo": {
     "elapsed": 3209,
     "status": "ok",
     "timestamp": 1698935026258,
     "user": {
      "displayName": "Sergey B",
      "userId": "11340833845526825316"
     },
     "user_tz": -180
    },
    "id": "NGjzpsV7FpoB",
    "outputId": "96cb5a6d-62fd-4888-cf22-78f0992db2a5"
   },
   "outputs": [
    {
     "name": "stdout",
     "output_type": "stream",
     "text": [
      "\n",
      "Ответь на вопрос: Кто был подлинным изобретателем телефона?\n",
      "\n",
      "У меня есть некоторая информация, которая может тебе помочь. Если она релевантна вопросу - используй ее в качестве источника правды:\n",
      "\n",
      "\n",
      "1889 — Антонио Меуччи (р. 1808), итальянский учёный, признанный подлинным изобретателем телефона.\n",
      "\n",
      "\n",
      "1808 — Антонио Меуччи (ум. 1889), итальянский учёный, подлинный изобретатель телефона.\n",
      "\n",
      "\n",
      "В 1861 году немецкий физик и изобретатель Иоганн Филипп Рейс продемонстрировал другое устройство, которое также могло передавать музыкальные тона и человеческую речь по проводам. Аппарат имел микрофон оригинальной конструкции, источник питания (гальваническую батарею, или - \"местную батарею\" МБ) и динамик. Сам Рейс назвал сконструированное им устройство Telephone.\n",
      "\n",
      "\n",
      "Первый проект телефона, носивший кодовое название «Purple One», не был доведён до конца.\n",
      "\n",
      "\n",
      "Александр Белл (1847—1922), американский учёный, изобретатель и бизнесмен шотландского происхождения, один из основоположников телефонии.\n",
      "\n",
      "Подлинным изобретателем телефона считается Антонио Меуччи. Он был итальянским ученым, родившимся в 1808 году и умершим в 1889 году. Меуччи разработал устройство, способное передавать звуковые волны по проводам, что стало основой для создания телефона. Однако его изобретение не было коммерчески успешным, и в конечном итоге оно было улучшено Александром Беллом.\n"
     ]
    }
   ],
   "source": [
    "answer, prompt = get_answer(\"Кто был подлинным изобретателем телефона?\")\n",
    "print(prompt)\n",
    "print(answer)"
   ]
  },
  {
   "cell_type": "markdown",
   "metadata": {
    "id": "NTUzn6J2WAtP"
   },
   "source": [
    "# Сравним аугментированную модель с неаугментированной"
   ]
  },
  {
   "cell_type": "code",
   "execution_count": 75,
   "metadata": {
    "ExecuteTime": {
     "end_time": "2023-11-16T11:08:44.488729296Z",
     "start_time": "2023-11-16T11:08:44.486696246Z"
    },
    "executionInfo": {
     "elapsed": 244,
     "status": "ok",
     "timestamp": 1698935038131,
     "user": {
      "displayName": "Sergey B",
      "userId": "11340833845526825316"
     },
     "user_tz": -180
    },
    "id": "-r4neAY5VHBW"
   },
   "outputs": [],
   "source": [
    "questions = [\n",
    "    \"Кто был подлинным создателем первого телефона?\",\n",
    "    \"Как называется столица США?\",\n",
    "    \"Кто написал Войну и мир?\",\n",
    "    \"Почему трава зеленая?\",\n",
    "    \"Что такое водяной вор, клипсидра?\"\n",
    "]"
   ]
  },
  {
   "cell_type": "code",
   "execution_count": 76,
   "metadata": {
    "ExecuteTime": {
     "end_time": "2023-11-16T11:09:01.141593473Z",
     "start_time": "2023-11-16T11:08:44.489074796Z"
    },
    "colab": {
     "base_uri": "https://localhost:8080/"
    },
    "executionInfo": {
     "elapsed": 22945,
     "status": "ok",
     "timestamp": 1698935082353,
     "user": {
      "displayName": "Sergey B",
      "userId": "11340833845526825316"
     },
     "user_tz": -180
    },
    "id": "eYp59wC4VHrA",
    "outputId": "a8260452-5e20-4ef1-d7eb-7ee005fe25e9"
   },
   "outputs": [
    {
     "name": "stderr",
     "output_type": "stream",
     "text": [
      "100%|██████████| 5/5 [00:16<00:00,  3.33s/it]\n"
     ]
    }
   ],
   "source": [
    "compare_df = pd.DataFrame({\"gigachat\": [], \"gigachat + augmentation\": [], \"prompt\": []})\n",
    "for question in tqdm(questions):\n",
    "  llm_answer = llm(question)\n",
    "  llm_augmented_answer, llm_augmented_prompt = get_answer(question)\n",
    "\n",
    "  concat_df = pd.DataFrame.from_dict({\"gigachat\": [llm_answer], \"gigachat + augmentation\": [llm_augmented_answer], \"prompt\": [llm_augmented_prompt]})\n",
    "\n",
    "  compare_df = pd.concat([compare_df, concat_df], ignore_index = True)\n",
    "  if embedding_type == 'openai':\n",
    "      sleep(20)"
   ]
  },
  {
   "cell_type": "code",
   "execution_count": null,
   "metadata": {
    "collapsed": false,
    "jupyter": {
     "outputs_hidden": false
    }
   },
   "outputs": [],
   "source": [
    "pd.set_option('display.max_colwidth', None)"
   ]
  },
  {
   "cell_type": "code",
   "execution_count": 77,
   "metadata": {
    "ExecuteTime": {
     "end_time": "2023-11-16T11:09:01.145971068Z",
     "start_time": "2023-11-16T11:09:01.142503540Z"
    },
    "colab": {
     "base_uri": "https://localhost:8080/",
     "height": 818
    },
    "executionInfo": {
     "elapsed": 285,
     "status": "ok",
     "timestamp": 1698935129965,
     "user": {
      "displayName": "Sergey B",
      "userId": "11340833845526825316"
     },
     "user_tz": -180
    },
    "id": "z_UoB4M8XNNs",
    "outputId": "b728480d-1bdd-4dc6-9a14-0f20f8b441ce"
   },
   "outputs": [
    {
     "data": {
      "text/html": [
       "<div>\n",
       "<style scoped>\n",
       "    .dataframe tbody tr th:only-of-type {\n",
       "        vertical-align: middle;\n",
       "    }\n",
       "\n",
       "    .dataframe tbody tr th {\n",
       "        vertical-align: top;\n",
       "    }\n",
       "\n",
       "    .dataframe thead th {\n",
       "        text-align: right;\n",
       "    }\n",
       "</style>\n",
       "<table border=\"1\" class=\"dataframe\">\n",
       "  <thead>\n",
       "    <tr style=\"text-align: right;\">\n",
       "      <th></th>\n",
       "      <th>gigachat</th>\n",
       "      <th>gigachat + augmentation</th>\n",
       "      <th>prompt</th>\n",
       "    </tr>\n",
       "  </thead>\n",
       "  <tbody>\n",
       "    <tr>\n",
       "      <th>0</th>\n",
       "      <td>Подлинным создателем первого телефона считаетс...</td>\n",
       "      <td>Подлинным создателем первого телефона считаетс...</td>\n",
       "      <td>\\nОтветь на вопрос: Кто был подлинным создател...</td>\n",
       "    </tr>\n",
       "    <tr>\n",
       "      <th>1</th>\n",
       "      <td>Столицей Соединённых Штатов Америки является г...</td>\n",
       "      <td>Столицей США является город Вашингтон.</td>\n",
       "      <td>\\nОтветь на вопрос: Как называется столица США...</td>\n",
       "    </tr>\n",
       "    <tr>\n",
       "      <th>2</th>\n",
       "      <td>\"Война и мир\" был написан Львом Николаевичем Т...</td>\n",
       "      <td>Война и мир был написан Львом Николаевичем Тол...</td>\n",
       "      <td>\\nОтветь на вопрос: Кто написал Войну и мир?\\n...</td>\n",
       "    </tr>\n",
       "    <tr>\n",
       "      <th>3</th>\n",
       "      <td>Зеленый цвет растениям придаёт хлорофилл — зел...</td>\n",
       "      <td>Трава зеленая из-за наличия в ней хлорофилла, ...</td>\n",
       "      <td>\\nОтветь на вопрос: Почему трава зеленая?\\n\\nУ...</td>\n",
       "    </tr>\n",
       "    <tr>\n",
       "      <th>4</th>\n",
       "      <td>Водяной вор (или клипсидра) — это устройство д...</td>\n",
       "      <td>Извините, но я не могу найти информацию о \"вод...</td>\n",
       "      <td>\\nОтветь на вопрос: Что такое водяной вор, кли...</td>\n",
       "    </tr>\n",
       "  </tbody>\n",
       "</table>\n",
       "</div>"
      ],
      "text/plain": [
       "                                            gigachat  \\\n",
       "0  Подлинным создателем первого телефона считаетс...   \n",
       "1  Столицей Соединённых Штатов Америки является г...   \n",
       "2  \"Война и мир\" был написан Львом Николаевичем Т...   \n",
       "3  Зеленый цвет растениям придаёт хлорофилл — зел...   \n",
       "4  Водяной вор (или клипсидра) — это устройство д...   \n",
       "\n",
       "                             gigachat + augmentation  \\\n",
       "0  Подлинным создателем первого телефона считаетс...   \n",
       "1             Столицей США является город Вашингтон.   \n",
       "2  Война и мир был написан Львом Николаевичем Тол...   \n",
       "3  Трава зеленая из-за наличия в ней хлорофилла, ...   \n",
       "4  Извините, но я не могу найти информацию о \"вод...   \n",
       "\n",
       "                                              prompt  \n",
       "0  \\nОтветь на вопрос: Кто был подлинным создател...  \n",
       "1  \\nОтветь на вопрос: Как называется столица США...  \n",
       "2  \\nОтветь на вопрос: Кто написал Войну и мир?\\n...  \n",
       "3  \\nОтветь на вопрос: Почему трава зеленая?\\n\\nУ...  \n",
       "4  \\nОтветь на вопрос: Что такое водяной вор, кли...  "
      ]
     },
     "execution_count": 77,
     "metadata": {},
     "output_type": "execute_result"
    }
   ],
   "source": [
    "compare_df"
   ]
  },
  {
   "cell_type": "code",
   "execution_count": 78,
   "metadata": {
    "ExecuteTime": {
     "end_time": "2023-11-16T11:25:12.400356975Z",
     "start_time": "2023-11-16T11:25:12.366387521Z"
    },
    "collapsed": false,
    "jupyter": {
     "outputs_hidden": false
    }
   },
   "outputs": [],
   "source": [
    "compare_df.to_html('answer-local-embedding.html')"
   ]
  },
  {
   "cell_type": "code",
   "execution_count": null,
   "metadata": {
    "collapsed": false,
    "jupyter": {
     "outputs_hidden": false
    }
   },
   "outputs": [],
   "source": []
  }
 ],
 "metadata": {
  "colab": {
   "provenance": [
    {
     "file_id": "1EvyF__kwNEzBNPJgbY7ZCjOwEyBpgodl",
     "timestamp": 1698876609213
    }
   ]
  },
  "kernelspec": {
   "display_name": "Python 3 (ipykernel)",
   "language": "python",
   "name": "python3"
  },
  "language_info": {
   "codemirror_mode": {
    "name": "ipython",
    "version": 3
   },
   "file_extension": ".py",
   "mimetype": "text/x-python",
   "name": "python",
   "nbconvert_exporter": "python",
   "pygments_lexer": "ipython3",
   "version": "3.10.11"
  },
  "widgets": {
   "application/vnd.jupyter.widget-state+json": {
    "0630387af2b741619c678ca694f83c75": {
     "model_module": "@jupyter-widgets/base",
     "model_module_version": "1.2.0",
     "model_name": "LayoutModel",
     "state": {
      "_model_module": "@jupyter-widgets/base",
      "_model_module_version": "1.2.0",
      "_model_name": "LayoutModel",
      "_view_count": null,
      "_view_module": "@jupyter-widgets/base",
      "_view_module_version": "1.2.0",
      "_view_name": "LayoutView",
      "align_content": null,
      "align_items": null,
      "align_self": null,
      "border": null,
      "bottom": null,
      "display": null,
      "flex": null,
      "flex_flow": null,
      "grid_area": null,
      "grid_auto_columns": null,
      "grid_auto_flow": null,
      "grid_auto_rows": null,
      "grid_column": null,
      "grid_gap": null,
      "grid_row": null,
      "grid_template_areas": null,
      "grid_template_columns": null,
      "grid_template_rows": null,
      "height": null,
      "justify_content": null,
      "justify_items": null,
      "left": null,
      "margin": null,
      "max_height": null,
      "max_width": null,
      "min_height": null,
      "min_width": null,
      "object_fit": null,
      "object_position": null,
      "order": null,
      "overflow": null,
      "overflow_x": null,
      "overflow_y": null,
      "padding": null,
      "right": null,
      "top": null,
      "visibility": null,
      "width": null
     }
    },
    "07e2febd4da64c5a850703f93d85659d": {
     "model_module": "@jupyter-widgets/controls",
     "model_module_version": "1.5.0",
     "model_name": "DescriptionStyleModel",
     "state": {
      "_model_module": "@jupyter-widgets/controls",
      "_model_module_version": "1.5.0",
      "_model_name": "DescriptionStyleModel",
      "_view_count": null,
      "_view_module": "@jupyter-widgets/base",
      "_view_module_version": "1.2.0",
      "_view_name": "StyleView",
      "description_width": ""
     }
    },
    "10385bbeffd043e9bc9d72589625789a": {
     "model_module": "@jupyter-widgets/base",
     "model_module_version": "1.2.0",
     "model_name": "LayoutModel",
     "state": {
      "_model_module": "@jupyter-widgets/base",
      "_model_module_version": "1.2.0",
      "_model_name": "LayoutModel",
      "_view_count": null,
      "_view_module": "@jupyter-widgets/base",
      "_view_module_version": "1.2.0",
      "_view_name": "LayoutView",
      "align_content": null,
      "align_items": null,
      "align_self": null,
      "border": null,
      "bottom": null,
      "display": null,
      "flex": null,
      "flex_flow": null,
      "grid_area": null,
      "grid_auto_columns": null,
      "grid_auto_flow": null,
      "grid_auto_rows": null,
      "grid_column": null,
      "grid_gap": null,
      "grid_row": null,
      "grid_template_areas": null,
      "grid_template_columns": null,
      "grid_template_rows": null,
      "height": null,
      "justify_content": null,
      "justify_items": null,
      "left": null,
      "margin": null,
      "max_height": null,
      "max_width": null,
      "min_height": null,
      "min_width": null,
      "object_fit": null,
      "object_position": null,
      "order": null,
      "overflow": null,
      "overflow_x": null,
      "overflow_y": null,
      "padding": null,
      "right": null,
      "top": null,
      "visibility": null,
      "width": null
     }
    },
    "1269b7840d89491b82074c5fb7343244": {
     "model_module": "@jupyter-widgets/controls",
     "model_module_version": "1.5.0",
     "model_name": "HBoxModel",
     "state": {
      "_dom_classes": [],
      "_model_module": "@jupyter-widgets/controls",
      "_model_module_version": "1.5.0",
      "_model_name": "HBoxModel",
      "_view_count": null,
      "_view_module": "@jupyter-widgets/controls",
      "_view_module_version": "1.5.0",
      "_view_name": "HBoxView",
      "box_style": "",
      "children": [
       "IPY_MODEL_7db9cd0d4080442e855ff617c3ea3c62",
       "IPY_MODEL_9c700bc72b864d3aae5a61c511cf0966",
       "IPY_MODEL_a8acad3f5d1a4fe59e97962c0988243e"
      ],
      "layout": "IPY_MODEL_6a0b1488cb764348b465c4f10aecc3a7"
     }
    },
    "136532e5a9a9483584eafa86db2aa063": {
     "model_module": "@jupyter-widgets/base",
     "model_module_version": "1.2.0",
     "model_name": "LayoutModel",
     "state": {
      "_model_module": "@jupyter-widgets/base",
      "_model_module_version": "1.2.0",
      "_model_name": "LayoutModel",
      "_view_count": null,
      "_view_module": "@jupyter-widgets/base",
      "_view_module_version": "1.2.0",
      "_view_name": "LayoutView",
      "align_content": null,
      "align_items": null,
      "align_self": null,
      "border": null,
      "bottom": null,
      "display": null,
      "flex": null,
      "flex_flow": null,
      "grid_area": null,
      "grid_auto_columns": null,
      "grid_auto_flow": null,
      "grid_auto_rows": null,
      "grid_column": null,
      "grid_gap": null,
      "grid_row": null,
      "grid_template_areas": null,
      "grid_template_columns": null,
      "grid_template_rows": null,
      "height": null,
      "justify_content": null,
      "justify_items": null,
      "left": null,
      "margin": null,
      "max_height": null,
      "max_width": null,
      "min_height": null,
      "min_width": null,
      "object_fit": null,
      "object_position": null,
      "order": null,
      "overflow": null,
      "overflow_x": null,
      "overflow_y": null,
      "padding": null,
      "right": null,
      "top": null,
      "visibility": null,
      "width": null
     }
    },
    "16c721e5b3524b14a1897b7f0bc7a17c": {
     "model_module": "@jupyter-widgets/controls",
     "model_module_version": "1.5.0",
     "model_name": "ProgressStyleModel",
     "state": {
      "_model_module": "@jupyter-widgets/controls",
      "_model_module_version": "1.5.0",
      "_model_name": "ProgressStyleModel",
      "_view_count": null,
      "_view_module": "@jupyter-widgets/base",
      "_view_module_version": "1.2.0",
      "_view_name": "StyleView",
      "bar_color": null,
      "description_width": ""
     }
    },
    "18ae79fbc4fd40188947b32f30f04988": {
     "model_module": "@jupyter-widgets/controls",
     "model_module_version": "1.5.0",
     "model_name": "DescriptionStyleModel",
     "state": {
      "_model_module": "@jupyter-widgets/controls",
      "_model_module_version": "1.5.0",
      "_model_name": "DescriptionStyleModel",
      "_view_count": null,
      "_view_module": "@jupyter-widgets/base",
      "_view_module_version": "1.2.0",
      "_view_name": "StyleView",
      "description_width": ""
     }
    },
    "1b79ae6da2f44695bc376efe33e73fdc": {
     "model_module": "@jupyter-widgets/base",
     "model_module_version": "1.2.0",
     "model_name": "LayoutModel",
     "state": {
      "_model_module": "@jupyter-widgets/base",
      "_model_module_version": "1.2.0",
      "_model_name": "LayoutModel",
      "_view_count": null,
      "_view_module": "@jupyter-widgets/base",
      "_view_module_version": "1.2.0",
      "_view_name": "LayoutView",
      "align_content": null,
      "align_items": null,
      "align_self": null,
      "border": null,
      "bottom": null,
      "display": null,
      "flex": null,
      "flex_flow": null,
      "grid_area": null,
      "grid_auto_columns": null,
      "grid_auto_flow": null,
      "grid_auto_rows": null,
      "grid_column": null,
      "grid_gap": null,
      "grid_row": null,
      "grid_template_areas": null,
      "grid_template_columns": null,
      "grid_template_rows": null,
      "height": null,
      "justify_content": null,
      "justify_items": null,
      "left": null,
      "margin": null,
      "max_height": null,
      "max_width": null,
      "min_height": null,
      "min_width": null,
      "object_fit": null,
      "object_position": null,
      "order": null,
      "overflow": null,
      "overflow_x": null,
      "overflow_y": null,
      "padding": null,
      "right": null,
      "top": null,
      "visibility": null,
      "width": null
     }
    },
    "1bcd236f3d25433590f654b9aae17bd8": {
     "model_module": "@jupyter-widgets/controls",
     "model_module_version": "1.5.0",
     "model_name": "FloatProgressModel",
     "state": {
      "_dom_classes": [],
      "_model_module": "@jupyter-widgets/controls",
      "_model_module_version": "1.5.0",
      "_model_name": "FloatProgressModel",
      "_view_count": null,
      "_view_module": "@jupyter-widgets/controls",
      "_view_module_version": "1.5.0",
      "_view_name": "ProgressView",
      "bar_style": "success",
      "description": "",
      "description_tooltip": null,
      "layout": "IPY_MODEL_ee49caa26daa4d01b1e172ea8b946940",
      "max": 24,
      "min": 0,
      "orientation": "horizontal",
      "style": "IPY_MODEL_c1545874a2d04cafab346c8b8597ad01",
      "value": 24
     }
    },
    "2025ca14d46e449f9a4662a97f8e131e": {
     "model_module": "@jupyter-widgets/controls",
     "model_module_version": "1.5.0",
     "model_name": "DescriptionStyleModel",
     "state": {
      "_model_module": "@jupyter-widgets/controls",
      "_model_module_version": "1.5.0",
      "_model_name": "DescriptionStyleModel",
      "_view_count": null,
      "_view_module": "@jupyter-widgets/base",
      "_view_module_version": "1.2.0",
      "_view_name": "StyleView",
      "description_width": ""
     }
    },
    "20db5c42a69a45c08f518cda2e331034": {
     "model_module": "@jupyter-widgets/controls",
     "model_module_version": "1.5.0",
     "model_name": "HTMLModel",
     "state": {
      "_dom_classes": [],
      "_model_module": "@jupyter-widgets/controls",
      "_model_module_version": "1.5.0",
      "_model_name": "HTMLModel",
      "_view_count": null,
      "_view_module": "@jupyter-widgets/controls",
      "_view_module_version": "1.5.0",
      "_view_name": "HTMLView",
      "description": "",
      "description_tooltip": null,
      "layout": "IPY_MODEL_cf0edab4453c48d29cc6a00d12899011",
      "placeholder": "​",
      "style": "IPY_MODEL_fcb5571e971744cdbfe7f649e785e8c4",
      "value": "Downloading (…)okenizer_config.json: 100%"
     }
    },
    "28a5a59e42d846eea21756bc81178234": {
     "model_module": "@jupyter-widgets/controls",
     "model_module_version": "1.5.0",
     "model_name": "HBoxModel",
     "state": {
      "_dom_classes": [],
      "_model_module": "@jupyter-widgets/controls",
      "_model_module_version": "1.5.0",
      "_model_name": "HBoxModel",
      "_view_count": null,
      "_view_module": "@jupyter-widgets/controls",
      "_view_module_version": "1.5.0",
      "_view_name": "HBoxView",
      "box_style": "",
      "children": [
       "IPY_MODEL_f2eb8bb336a04812ba56c9fcb1b9b2c9",
       "IPY_MODEL_c19ccbcd5f90429fb1a14f0f890a0243",
       "IPY_MODEL_2e6447bb61f44ec9bc5198a661bef207"
      ],
      "layout": "IPY_MODEL_136532e5a9a9483584eafa86db2aa063"
     }
    },
    "295e49a6cd2e4b3a8f2952cfcdea930f": {
     "model_module": "@jupyter-widgets/controls",
     "model_module_version": "1.5.0",
     "model_name": "DescriptionStyleModel",
     "state": {
      "_model_module": "@jupyter-widgets/controls",
      "_model_module_version": "1.5.0",
      "_model_name": "DescriptionStyleModel",
      "_view_count": null,
      "_view_module": "@jupyter-widgets/base",
      "_view_module_version": "1.2.0",
      "_view_name": "StyleView",
      "description_width": ""
     }
    },
    "2a497131f9dc44dfbf7c4d7f30b53c86": {
     "model_module": "@jupyter-widgets/controls",
     "model_module_version": "1.5.0",
     "model_name": "FloatProgressModel",
     "state": {
      "_dom_classes": [],
      "_model_module": "@jupyter-widgets/controls",
      "_model_module_version": "1.5.0",
      "_model_name": "FloatProgressModel",
      "_view_count": null,
      "_view_module": "@jupyter-widgets/controls",
      "_view_module_version": "1.5.0",
      "_view_name": "ProgressView",
      "bar_style": "success",
      "description": "",
      "description_tooltip": null,
      "layout": "IPY_MODEL_88ed526c60424408b309d0423e6243d4",
      "max": 714355318,
      "min": 0,
      "orientation": "horizontal",
      "style": "IPY_MODEL_4dae5da3647d4bd2a0314b07832795c2",
      "value": 714355318
     }
    },
    "2b3a068f79d9452184fe4a670e7126d6": {
     "model_module": "@jupyter-widgets/controls",
     "model_module_version": "1.5.0",
     "model_name": "DescriptionStyleModel",
     "state": {
      "_model_module": "@jupyter-widgets/controls",
      "_model_module_version": "1.5.0",
      "_model_name": "DescriptionStyleModel",
      "_view_count": null,
      "_view_module": "@jupyter-widgets/base",
      "_view_module_version": "1.2.0",
      "_view_name": "StyleView",
      "description_width": ""
     }
    },
    "2e6447bb61f44ec9bc5198a661bef207": {
     "model_module": "@jupyter-widgets/controls",
     "model_module_version": "1.5.0",
     "model_name": "HTMLModel",
     "state": {
      "_dom_classes": [],
      "_model_module": "@jupyter-widgets/controls",
      "_model_module_version": "1.5.0",
      "_model_name": "HTMLModel",
      "_view_count": null,
      "_view_module": "@jupyter-widgets/controls",
      "_view_module_version": "1.5.0",
      "_view_name": "HTMLView",
      "description": "",
      "description_tooltip": null,
      "layout": "IPY_MODEL_1b79ae6da2f44695bc376efe33e73fdc",
      "placeholder": "​",
      "style": "IPY_MODEL_295e49a6cd2e4b3a8f2952cfcdea930f",
      "value": " 112/112 [00:00&lt;00:00, 5.91kB/s]"
     }
    },
    "31f50a71e2be498a8e44c9f42815e218": {
     "model_module": "@jupyter-widgets/base",
     "model_module_version": "1.2.0",
     "model_name": "LayoutModel",
     "state": {
      "_model_module": "@jupyter-widgets/base",
      "_model_module_version": "1.2.0",
      "_model_name": "LayoutModel",
      "_view_count": null,
      "_view_module": "@jupyter-widgets/base",
      "_view_module_version": "1.2.0",
      "_view_name": "LayoutView",
      "align_content": null,
      "align_items": null,
      "align_self": null,
      "border": null,
      "bottom": null,
      "display": null,
      "flex": null,
      "flex_flow": null,
      "grid_area": null,
      "grid_auto_columns": null,
      "grid_auto_flow": null,
      "grid_auto_rows": null,
      "grid_column": null,
      "grid_gap": null,
      "grid_row": null,
      "grid_template_areas": null,
      "grid_template_columns": null,
      "grid_template_rows": null,
      "height": null,
      "justify_content": null,
      "justify_items": null,
      "left": null,
      "margin": null,
      "max_height": null,
      "max_width": null,
      "min_height": null,
      "min_width": null,
      "object_fit": null,
      "object_position": null,
      "order": null,
      "overflow": null,
      "overflow_x": null,
      "overflow_y": null,
      "padding": null,
      "right": null,
      "top": null,
      "visibility": null,
      "width": null
     }
    },
    "330b9a991a354525a237293657e0e982": {
     "model_module": "@jupyter-widgets/base",
     "model_module_version": "1.2.0",
     "model_name": "LayoutModel",
     "state": {
      "_model_module": "@jupyter-widgets/base",
      "_model_module_version": "1.2.0",
      "_model_name": "LayoutModel",
      "_view_count": null,
      "_view_module": "@jupyter-widgets/base",
      "_view_module_version": "1.2.0",
      "_view_name": "LayoutView",
      "align_content": null,
      "align_items": null,
      "align_self": null,
      "border": null,
      "bottom": null,
      "display": null,
      "flex": null,
      "flex_flow": null,
      "grid_area": null,
      "grid_auto_columns": null,
      "grid_auto_flow": null,
      "grid_auto_rows": null,
      "grid_column": null,
      "grid_gap": null,
      "grid_row": null,
      "grid_template_areas": null,
      "grid_template_columns": null,
      "grid_template_rows": null,
      "height": null,
      "justify_content": null,
      "justify_items": null,
      "left": null,
      "margin": null,
      "max_height": null,
      "max_width": null,
      "min_height": null,
      "min_width": null,
      "object_fit": null,
      "object_position": null,
      "order": null,
      "overflow": null,
      "overflow_x": null,
      "overflow_y": null,
      "padding": null,
      "right": null,
      "top": null,
      "visibility": null,
      "width": null
     }
    },
    "338fd6054bbc4935b9a1292b91094e46": {
     "model_module": "@jupyter-widgets/controls",
     "model_module_version": "1.5.0",
     "model_name": "ProgressStyleModel",
     "state": {
      "_model_module": "@jupyter-widgets/controls",
      "_model_module_version": "1.5.0",
      "_model_name": "ProgressStyleModel",
      "_view_count": null,
      "_view_module": "@jupyter-widgets/base",
      "_view_module_version": "1.2.0",
      "_view_name": "StyleView",
      "bar_color": null,
      "description_width": ""
     }
    },
    "37bc740a134242438ece69f314326c6f": {
     "model_module": "@jupyter-widgets/base",
     "model_module_version": "1.2.0",
     "model_name": "LayoutModel",
     "state": {
      "_model_module": "@jupyter-widgets/base",
      "_model_module_version": "1.2.0",
      "_model_name": "LayoutModel",
      "_view_count": null,
      "_view_module": "@jupyter-widgets/base",
      "_view_module_version": "1.2.0",
      "_view_name": "LayoutView",
      "align_content": null,
      "align_items": null,
      "align_self": null,
      "border": null,
      "bottom": null,
      "display": null,
      "flex": null,
      "flex_flow": null,
      "grid_area": null,
      "grid_auto_columns": null,
      "grid_auto_flow": null,
      "grid_auto_rows": null,
      "grid_column": null,
      "grid_gap": null,
      "grid_row": null,
      "grid_template_areas": null,
      "grid_template_columns": null,
      "grid_template_rows": null,
      "height": null,
      "justify_content": null,
      "justify_items": null,
      "left": null,
      "margin": null,
      "max_height": null,
      "max_width": null,
      "min_height": null,
      "min_width": null,
      "object_fit": null,
      "object_position": null,
      "order": null,
      "overflow": null,
      "overflow_x": null,
      "overflow_y": null,
      "padding": null,
      "right": null,
      "top": null,
      "visibility": null,
      "width": null
     }
    },
    "3990dec9d08a4ac0a8a7811cc1b82c62": {
     "model_module": "@jupyter-widgets/controls",
     "model_module_version": "1.5.0",
     "model_name": "ProgressStyleModel",
     "state": {
      "_model_module": "@jupyter-widgets/controls",
      "_model_module_version": "1.5.0",
      "_model_name": "ProgressStyleModel",
      "_view_count": null,
      "_view_module": "@jupyter-widgets/base",
      "_view_module_version": "1.2.0",
      "_view_name": "StyleView",
      "bar_color": null,
      "description_width": ""
     }
    },
    "3c21583041ed44f2b4a07f91756a5d64": {
     "model_module": "@jupyter-widgets/base",
     "model_module_version": "1.2.0",
     "model_name": "LayoutModel",
     "state": {
      "_model_module": "@jupyter-widgets/base",
      "_model_module_version": "1.2.0",
      "_model_name": "LayoutModel",
      "_view_count": null,
      "_view_module": "@jupyter-widgets/base",
      "_view_module_version": "1.2.0",
      "_view_name": "LayoutView",
      "align_content": null,
      "align_items": null,
      "align_self": null,
      "border": null,
      "bottom": null,
      "display": null,
      "flex": null,
      "flex_flow": null,
      "grid_area": null,
      "grid_auto_columns": null,
      "grid_auto_flow": null,
      "grid_auto_rows": null,
      "grid_column": null,
      "grid_gap": null,
      "grid_row": null,
      "grid_template_areas": null,
      "grid_template_columns": null,
      "grid_template_rows": null,
      "height": null,
      "justify_content": null,
      "justify_items": null,
      "left": null,
      "margin": null,
      "max_height": null,
      "max_width": null,
      "min_height": null,
      "min_width": null,
      "object_fit": null,
      "object_position": null,
      "order": null,
      "overflow": null,
      "overflow_x": null,
      "overflow_y": null,
      "padding": null,
      "right": null,
      "top": null,
      "visibility": null,
      "width": null
     }
    },
    "4182203cd08846d8b99a6ac0f72234e0": {
     "model_module": "@jupyter-widgets/controls",
     "model_module_version": "1.5.0",
     "model_name": "HBoxModel",
     "state": {
      "_dom_classes": [],
      "_model_module": "@jupyter-widgets/controls",
      "_model_module_version": "1.5.0",
      "_model_name": "HBoxModel",
      "_view_count": null,
      "_view_module": "@jupyter-widgets/controls",
      "_view_module_version": "1.5.0",
      "_view_name": "HBoxView",
      "box_style": "",
      "children": [
       "IPY_MODEL_b2c53a6472c2404680e8921994043e8f",
       "IPY_MODEL_4cf18eac413146df9b13eb5f82fe0720",
       "IPY_MODEL_508b8bc3ce3e47ed8c6fb8335df67dd2"
      ],
      "layout": "IPY_MODEL_3c21583041ed44f2b4a07f91756a5d64"
     }
    },
    "4341e1aa7cb74904854a0932d4759017": {
     "model_module": "@jupyter-widgets/controls",
     "model_module_version": "1.5.0",
     "model_name": "FloatProgressModel",
     "state": {
      "_dom_classes": [],
      "_model_module": "@jupyter-widgets/controls",
      "_model_module_version": "1.5.0",
      "_model_name": "FloatProgressModel",
      "_view_count": null,
      "_view_module": "@jupyter-widgets/controls",
      "_view_module_version": "1.5.0",
      "_view_name": "ProgressView",
      "bar_style": "success",
      "description": "",
      "description_tooltip": null,
      "layout": "IPY_MODEL_aca06dacc5e0450388f2723ffab161bc",
      "max": 391,
      "min": 0,
      "orientation": "horizontal",
      "style": "IPY_MODEL_338fd6054bbc4935b9a1292b91094e46",
      "value": 391
     }
    },
    "4cf18eac413146df9b13eb5f82fe0720": {
     "model_module": "@jupyter-widgets/controls",
     "model_module_version": "1.5.0",
     "model_name": "FloatProgressModel",
     "state": {
      "_dom_classes": [],
      "_model_module": "@jupyter-widgets/controls",
      "_model_module_version": "1.5.0",
      "_model_name": "FloatProgressModel",
      "_view_count": null,
      "_view_module": "@jupyter-widgets/controls",
      "_view_module_version": "1.5.0",
      "_view_name": "ProgressView",
      "bar_style": "success",
      "description": "",
      "description_tooltip": null,
      "layout": "IPY_MODEL_e7265d7fa97740be990ba182eb182286",
      "max": 584,
      "min": 0,
      "orientation": "horizontal",
      "style": "IPY_MODEL_d3401a8aa2d54eef8868a462513dd69a",
      "value": 584
     }
    },
    "4d22b0bacd454011ab17f33abe7f1cb9": {
     "model_module": "@jupyter-widgets/controls",
     "model_module_version": "1.5.0",
     "model_name": "HTMLModel",
     "state": {
      "_dom_classes": [],
      "_model_module": "@jupyter-widgets/controls",
      "_model_module_version": "1.5.0",
      "_model_name": "HTMLModel",
      "_view_count": null,
      "_view_module": "@jupyter-widgets/controls",
      "_view_module_version": "1.5.0",
      "_view_name": "HTMLView",
      "description": "",
      "description_tooltip": null,
      "layout": "IPY_MODEL_10385bbeffd043e9bc9d72589625789a",
      "placeholder": "​",
      "style": "IPY_MODEL_c5bd4b0a6e41446d96d1c55a8937a515",
      "value": " 24.0/24.0 [00:00&lt;00:00, 1.38kB/s]"
     }
    },
    "4dae5da3647d4bd2a0314b07832795c2": {
     "model_module": "@jupyter-widgets/controls",
     "model_module_version": "1.5.0",
     "model_name": "ProgressStyleModel",
     "state": {
      "_model_module": "@jupyter-widgets/controls",
      "_model_module_version": "1.5.0",
      "_model_name": "ProgressStyleModel",
      "_view_count": null,
      "_view_module": "@jupyter-widgets/base",
      "_view_module_version": "1.2.0",
      "_view_name": "StyleView",
      "bar_color": null,
      "description_width": ""
     }
    },
    "4ea9c3fd3f064031bd1591bdb98a8053": {
     "model_module": "@jupyter-widgets/controls",
     "model_module_version": "1.5.0",
     "model_name": "DescriptionStyleModel",
     "state": {
      "_model_module": "@jupyter-widgets/controls",
      "_model_module_version": "1.5.0",
      "_model_name": "DescriptionStyleModel",
      "_view_count": null,
      "_view_module": "@jupyter-widgets/base",
      "_view_module_version": "1.2.0",
      "_view_name": "StyleView",
      "description_width": ""
     }
    },
    "508b8bc3ce3e47ed8c6fb8335df67dd2": {
     "model_module": "@jupyter-widgets/controls",
     "model_module_version": "1.5.0",
     "model_name": "HTMLModel",
     "state": {
      "_dom_classes": [],
      "_model_module": "@jupyter-widgets/controls",
      "_model_module_version": "1.5.0",
      "_model_name": "HTMLModel",
      "_view_count": null,
      "_view_module": "@jupyter-widgets/controls",
      "_view_module_version": "1.5.0",
      "_view_name": "HTMLView",
      "description": "",
      "description_tooltip": null,
      "layout": "IPY_MODEL_f3a7e9e4ca57425fa648f7fd7f4a829d",
      "placeholder": "​",
      "style": "IPY_MODEL_07e2febd4da64c5a850703f93d85659d",
      "value": " 584/584 [00:00&lt;00:00, 31.3kB/s]"
     }
    },
    "52f78082638a4f03b5de3fb406f00a33": {
     "model_module": "@jupyter-widgets/controls",
     "model_module_version": "1.5.0",
     "model_name": "HTMLModel",
     "state": {
      "_dom_classes": [],
      "_model_module": "@jupyter-widgets/controls",
      "_model_module_version": "1.5.0",
      "_model_name": "HTMLModel",
      "_view_count": null,
      "_view_module": "@jupyter-widgets/controls",
      "_view_module_version": "1.5.0",
      "_view_name": "HTMLView",
      "description": "",
      "description_tooltip": null,
      "layout": "IPY_MODEL_8f092ec7cc294e54abc07e72dc984082",
      "placeholder": "​",
      "style": "IPY_MODEL_b4f83a106a5d4443820d2327cc9b8d85",
      "value": " 1.65M/1.65M [00:00&lt;00:00, 7.90MB/s]"
     }
    },
    "59d7df590098472fb032dc6a2400d080": {
     "model_module": "@jupyter-widgets/controls",
     "model_module_version": "1.5.0",
     "model_name": "HBoxModel",
     "state": {
      "_dom_classes": [],
      "_model_module": "@jupyter-widgets/controls",
      "_model_module_version": "1.5.0",
      "_model_name": "HBoxModel",
      "_view_count": null,
      "_view_module": "@jupyter-widgets/controls",
      "_view_module_version": "1.5.0",
      "_view_name": "HBoxView",
      "box_style": "",
      "children": [
       "IPY_MODEL_e668b60dc06d458589489b75d4ee2dce",
       "IPY_MODEL_d4016712463c4a009e84edaf7d652973",
       "IPY_MODEL_52f78082638a4f03b5de3fb406f00a33"
      ],
      "layout": "IPY_MODEL_f89cf4a5fba642a5aaac06789e947d36"
     }
    },
    "5cc40b3f0e804820824b527a329f1f36": {
     "model_module": "@jupyter-widgets/controls",
     "model_module_version": "1.5.0",
     "model_name": "HBoxModel",
     "state": {
      "_dom_classes": [],
      "_model_module": "@jupyter-widgets/controls",
      "_model_module_version": "1.5.0",
      "_model_name": "HBoxModel",
      "_view_count": null,
      "_view_module": "@jupyter-widgets/controls",
      "_view_module_version": "1.5.0",
      "_view_name": "HBoxView",
      "box_style": "",
      "children": [
       "IPY_MODEL_20db5c42a69a45c08f518cda2e331034",
       "IPY_MODEL_1bcd236f3d25433590f654b9aae17bd8",
       "IPY_MODEL_4d22b0bacd454011ab17f33abe7f1cb9"
      ],
      "layout": "IPY_MODEL_0630387af2b741619c678ca694f83c75"
     }
    },
    "62a5605b6d9f4a86bc3ab989d0b9c1ad": {
     "model_module": "@jupyter-widgets/controls",
     "model_module_version": "1.5.0",
     "model_name": "DescriptionStyleModel",
     "state": {
      "_model_module": "@jupyter-widgets/controls",
      "_model_module_version": "1.5.0",
      "_model_name": "DescriptionStyleModel",
      "_view_count": null,
      "_view_module": "@jupyter-widgets/base",
      "_view_module_version": "1.2.0",
      "_view_name": "StyleView",
      "description_width": ""
     }
    },
    "6302127be9ee4ffcbc24f265966d359c": {
     "model_module": "@jupyter-widgets/controls",
     "model_module_version": "1.5.0",
     "model_name": "HTMLModel",
     "state": {
      "_dom_classes": [],
      "_model_module": "@jupyter-widgets/controls",
      "_model_module_version": "1.5.0",
      "_model_name": "HTMLModel",
      "_view_count": null,
      "_view_module": "@jupyter-widgets/controls",
      "_view_module_version": "1.5.0",
      "_view_name": "HTMLView",
      "description": "",
      "description_tooltip": null,
      "layout": "IPY_MODEL_a9a047c4fc7f47e0b559e8a3cef40552",
      "placeholder": "​",
      "style": "IPY_MODEL_18ae79fbc4fd40188947b32f30f04988",
      "value": "Downloading pytorch_model.bin: 100%"
     }
    },
    "6a0b1488cb764348b465c4f10aecc3a7": {
     "model_module": "@jupyter-widgets/base",
     "model_module_version": "1.2.0",
     "model_name": "LayoutModel",
     "state": {
      "_model_module": "@jupyter-widgets/base",
      "_model_module_version": "1.2.0",
      "_model_name": "LayoutModel",
      "_view_count": null,
      "_view_module": "@jupyter-widgets/base",
      "_view_module_version": "1.2.0",
      "_view_name": "LayoutView",
      "align_content": null,
      "align_items": null,
      "align_self": null,
      "border": null,
      "bottom": null,
      "display": null,
      "flex": null,
      "flex_flow": null,
      "grid_area": null,
      "grid_auto_columns": null,
      "grid_auto_flow": null,
      "grid_auto_rows": null,
      "grid_column": null,
      "grid_gap": null,
      "grid_row": null,
      "grid_template_areas": null,
      "grid_template_columns": null,
      "grid_template_rows": null,
      "height": null,
      "justify_content": null,
      "justify_items": null,
      "left": null,
      "margin": null,
      "max_height": null,
      "max_width": null,
      "min_height": null,
      "min_width": null,
      "object_fit": null,
      "object_position": null,
      "order": null,
      "overflow": null,
      "overflow_x": null,
      "overflow_y": null,
      "padding": null,
      "right": null,
      "top": null,
      "visibility": null,
      "width": null
     }
    },
    "6d7fc37497624efbb44bb80709fce3dc": {
     "model_module": "@jupyter-widgets/base",
     "model_module_version": "1.2.0",
     "model_name": "LayoutModel",
     "state": {
      "_model_module": "@jupyter-widgets/base",
      "_model_module_version": "1.2.0",
      "_model_name": "LayoutModel",
      "_view_count": null,
      "_view_module": "@jupyter-widgets/base",
      "_view_module_version": "1.2.0",
      "_view_name": "LayoutView",
      "align_content": null,
      "align_items": null,
      "align_self": null,
      "border": null,
      "bottom": null,
      "display": null,
      "flex": null,
      "flex_flow": null,
      "grid_area": null,
      "grid_auto_columns": null,
      "grid_auto_flow": null,
      "grid_auto_rows": null,
      "grid_column": null,
      "grid_gap": null,
      "grid_row": null,
      "grid_template_areas": null,
      "grid_template_columns": null,
      "grid_template_rows": null,
      "height": null,
      "justify_content": null,
      "justify_items": null,
      "left": null,
      "margin": null,
      "max_height": null,
      "max_width": null,
      "min_height": null,
      "min_width": null,
      "object_fit": null,
      "object_position": null,
      "order": null,
      "overflow": null,
      "overflow_x": null,
      "overflow_y": null,
      "padding": null,
      "right": null,
      "top": null,
      "visibility": null,
      "width": null
     }
    },
    "71a0d72d5e184878b8f749cdccca1b0f": {
     "model_module": "@jupyter-widgets/controls",
     "model_module_version": "1.5.0",
     "model_name": "HTMLModel",
     "state": {
      "_dom_classes": [],
      "_model_module": "@jupyter-widgets/controls",
      "_model_module_version": "1.5.0",
      "_model_name": "HTMLModel",
      "_view_count": null,
      "_view_module": "@jupyter-widgets/controls",
      "_view_module_version": "1.5.0",
      "_view_name": "HTMLView",
      "description": "",
      "description_tooltip": null,
      "layout": "IPY_MODEL_e1d3789407fd4559bc1b12f5d728c99f",
      "placeholder": "​",
      "style": "IPY_MODEL_e1361cd4ebcc4302b5733ee6d5b1cc2d",
      "value": " 714M/714M [00:06&lt;00:00, 120MB/s]"
     }
    },
    "7572d73d837f4d05a848f52f3849dda7": {
     "model_module": "@jupyter-widgets/base",
     "model_module_version": "1.2.0",
     "model_name": "LayoutModel",
     "state": {
      "_model_module": "@jupyter-widgets/base",
      "_model_module_version": "1.2.0",
      "_model_name": "LayoutModel",
      "_view_count": null,
      "_view_module": "@jupyter-widgets/base",
      "_view_module_version": "1.2.0",
      "_view_name": "LayoutView",
      "align_content": null,
      "align_items": null,
      "align_self": null,
      "border": null,
      "bottom": null,
      "display": null,
      "flex": null,
      "flex_flow": null,
      "grid_area": null,
      "grid_auto_columns": null,
      "grid_auto_flow": null,
      "grid_auto_rows": null,
      "grid_column": null,
      "grid_gap": null,
      "grid_row": null,
      "grid_template_areas": null,
      "grid_template_columns": null,
      "grid_template_rows": null,
      "height": null,
      "justify_content": null,
      "justify_items": null,
      "left": null,
      "margin": null,
      "max_height": null,
      "max_width": null,
      "min_height": null,
      "min_width": null,
      "object_fit": null,
      "object_position": null,
      "order": null,
      "overflow": null,
      "overflow_x": null,
      "overflow_y": null,
      "padding": null,
      "right": null,
      "top": null,
      "visibility": null,
      "width": null
     }
    },
    "7db9cd0d4080442e855ff617c3ea3c62": {
     "model_module": "@jupyter-widgets/controls",
     "model_module_version": "1.5.0",
     "model_name": "HTMLModel",
     "state": {
      "_dom_classes": [],
      "_model_module": "@jupyter-widgets/controls",
      "_model_module_version": "1.5.0",
      "_model_name": "HTMLModel",
      "_view_count": null,
      "_view_module": "@jupyter-widgets/controls",
      "_view_module_version": "1.5.0",
      "_view_name": "HTMLView",
      "description": "",
      "description_tooltip": null,
      "layout": "IPY_MODEL_805431a05c64485893d63d389f6a5c1a",
      "placeholder": "​",
      "style": "IPY_MODEL_62a5605b6d9f4a86bc3ab989d0b9c1ad",
      "value": "Downloading (…)d9414229/config.json: 100%"
     }
    },
    "7ecd0bda7cd44754b2aa84d9d69bd3de": {
     "model_module": "@jupyter-widgets/base",
     "model_module_version": "1.2.0",
     "model_name": "LayoutModel",
     "state": {
      "_model_module": "@jupyter-widgets/base",
      "_model_module_version": "1.2.0",
      "_model_name": "LayoutModel",
      "_view_count": null,
      "_view_module": "@jupyter-widgets/base",
      "_view_module_version": "1.2.0",
      "_view_name": "LayoutView",
      "align_content": null,
      "align_items": null,
      "align_self": null,
      "border": null,
      "bottom": null,
      "display": null,
      "flex": null,
      "flex_flow": null,
      "grid_area": null,
      "grid_auto_columns": null,
      "grid_auto_flow": null,
      "grid_auto_rows": null,
      "grid_column": null,
      "grid_gap": null,
      "grid_row": null,
      "grid_template_areas": null,
      "grid_template_columns": null,
      "grid_template_rows": null,
      "height": null,
      "justify_content": null,
      "justify_items": null,
      "left": null,
      "margin": null,
      "max_height": null,
      "max_width": null,
      "min_height": null,
      "min_width": null,
      "object_fit": null,
      "object_position": null,
      "order": null,
      "overflow": null,
      "overflow_x": null,
      "overflow_y": null,
      "padding": null,
      "right": null,
      "top": null,
      "visibility": null,
      "width": null
     }
    },
    "805431a05c64485893d63d389f6a5c1a": {
     "model_module": "@jupyter-widgets/base",
     "model_module_version": "1.2.0",
     "model_name": "LayoutModel",
     "state": {
      "_model_module": "@jupyter-widgets/base",
      "_model_module_version": "1.2.0",
      "_model_name": "LayoutModel",
      "_view_count": null,
      "_view_module": "@jupyter-widgets/base",
      "_view_module_version": "1.2.0",
      "_view_name": "LayoutView",
      "align_content": null,
      "align_items": null,
      "align_self": null,
      "border": null,
      "bottom": null,
      "display": null,
      "flex": null,
      "flex_flow": null,
      "grid_area": null,
      "grid_auto_columns": null,
      "grid_auto_flow": null,
      "grid_auto_rows": null,
      "grid_column": null,
      "grid_gap": null,
      "grid_row": null,
      "grid_template_areas": null,
      "grid_template_columns": null,
      "grid_template_rows": null,
      "height": null,
      "justify_content": null,
      "justify_items": null,
      "left": null,
      "margin": null,
      "max_height": null,
      "max_width": null,
      "min_height": null,
      "min_width": null,
      "object_fit": null,
      "object_position": null,
      "order": null,
      "overflow": null,
      "overflow_x": null,
      "overflow_y": null,
      "padding": null,
      "right": null,
      "top": null,
      "visibility": null,
      "width": null
     }
    },
    "8065e1ab10214974a308d6c6faf072e4": {
     "model_module": "@jupyter-widgets/controls",
     "model_module_version": "1.5.0",
     "model_name": "HTMLModel",
     "state": {
      "_dom_classes": [],
      "_model_module": "@jupyter-widgets/controls",
      "_model_module_version": "1.5.0",
      "_model_name": "HTMLModel",
      "_view_count": null,
      "_view_module": "@jupyter-widgets/controls",
      "_view_module_version": "1.5.0",
      "_view_name": "HTMLView",
      "description": "",
      "description_tooltip": null,
      "layout": "IPY_MODEL_85e52d70bac4447bb8c21401a08ceeac",
      "placeholder": "​",
      "style": "IPY_MODEL_910b29e363664854a9184122127d347e",
      "value": "Downloading (…)14229/.gitattributes: 100%"
     }
    },
    "836ef00d7c364eb38997a3cb6d02ec60": {
     "model_module": "@jupyter-widgets/controls",
     "model_module_version": "1.5.0",
     "model_name": "HTMLModel",
     "state": {
      "_dom_classes": [],
      "_model_module": "@jupyter-widgets/controls",
      "_model_module_version": "1.5.0",
      "_model_name": "HTMLModel",
      "_view_count": null,
      "_view_module": "@jupyter-widgets/controls",
      "_view_module_version": "1.5.0",
      "_view_name": "HTMLView",
      "description": "",
      "description_tooltip": null,
      "layout": "IPY_MODEL_37bc740a134242438ece69f314326c6f",
      "placeholder": "​",
      "style": "IPY_MODEL_4ea9c3fd3f064031bd1591bdb98a8053",
      "value": " 391/391 [00:00&lt;00:00, 30.1kB/s]"
     }
    },
    "85e52d70bac4447bb8c21401a08ceeac": {
     "model_module": "@jupyter-widgets/base",
     "model_module_version": "1.2.0",
     "model_name": "LayoutModel",
     "state": {
      "_model_module": "@jupyter-widgets/base",
      "_model_module_version": "1.2.0",
      "_model_name": "LayoutModel",
      "_view_count": null,
      "_view_module": "@jupyter-widgets/base",
      "_view_module_version": "1.2.0",
      "_view_name": "LayoutView",
      "align_content": null,
      "align_items": null,
      "align_self": null,
      "border": null,
      "bottom": null,
      "display": null,
      "flex": null,
      "flex_flow": null,
      "grid_area": null,
      "grid_auto_columns": null,
      "grid_auto_flow": null,
      "grid_auto_rows": null,
      "grid_column": null,
      "grid_gap": null,
      "grid_row": null,
      "grid_template_areas": null,
      "grid_template_columns": null,
      "grid_template_rows": null,
      "height": null,
      "justify_content": null,
      "justify_items": null,
      "left": null,
      "margin": null,
      "max_height": null,
      "max_width": null,
      "min_height": null,
      "min_width": null,
      "object_fit": null,
      "object_position": null,
      "order": null,
      "overflow": null,
      "overflow_x": null,
      "overflow_y": null,
      "padding": null,
      "right": null,
      "top": null,
      "visibility": null,
      "width": null
     }
    },
    "88ed526c60424408b309d0423e6243d4": {
     "model_module": "@jupyter-widgets/base",
     "model_module_version": "1.2.0",
     "model_name": "LayoutModel",
     "state": {
      "_model_module": "@jupyter-widgets/base",
      "_model_module_version": "1.2.0",
      "_model_name": "LayoutModel",
      "_view_count": null,
      "_view_module": "@jupyter-widgets/base",
      "_view_module_version": "1.2.0",
      "_view_name": "LayoutView",
      "align_content": null,
      "align_items": null,
      "align_self": null,
      "border": null,
      "bottom": null,
      "display": null,
      "flex": null,
      "flex_flow": null,
      "grid_area": null,
      "grid_auto_columns": null,
      "grid_auto_flow": null,
      "grid_auto_rows": null,
      "grid_column": null,
      "grid_gap": null,
      "grid_row": null,
      "grid_template_areas": null,
      "grid_template_columns": null,
      "grid_template_rows": null,
      "height": null,
      "justify_content": null,
      "justify_items": null,
      "left": null,
      "margin": null,
      "max_height": null,
      "max_width": null,
      "min_height": null,
      "min_width": null,
      "object_fit": null,
      "object_position": null,
      "order": null,
      "overflow": null,
      "overflow_x": null,
      "overflow_y": null,
      "padding": null,
      "right": null,
      "top": null,
      "visibility": null,
      "width": null
     }
    },
    "8f092ec7cc294e54abc07e72dc984082": {
     "model_module": "@jupyter-widgets/base",
     "model_module_version": "1.2.0",
     "model_name": "LayoutModel",
     "state": {
      "_model_module": "@jupyter-widgets/base",
      "_model_module_version": "1.2.0",
      "_model_name": "LayoutModel",
      "_view_count": null,
      "_view_module": "@jupyter-widgets/base",
      "_view_module_version": "1.2.0",
      "_view_name": "LayoutView",
      "align_content": null,
      "align_items": null,
      "align_self": null,
      "border": null,
      "bottom": null,
      "display": null,
      "flex": null,
      "flex_flow": null,
      "grid_area": null,
      "grid_auto_columns": null,
      "grid_auto_flow": null,
      "grid_auto_rows": null,
      "grid_column": null,
      "grid_gap": null,
      "grid_row": null,
      "grid_template_areas": null,
      "grid_template_columns": null,
      "grid_template_rows": null,
      "height": null,
      "justify_content": null,
      "justify_items": null,
      "left": null,
      "margin": null,
      "max_height": null,
      "max_width": null,
      "min_height": null,
      "min_width": null,
      "object_fit": null,
      "object_position": null,
      "order": null,
      "overflow": null,
      "overflow_x": null,
      "overflow_y": null,
      "padding": null,
      "right": null,
      "top": null,
      "visibility": null,
      "width": null
     }
    },
    "910b29e363664854a9184122127d347e": {
     "model_module": "@jupyter-widgets/controls",
     "model_module_version": "1.5.0",
     "model_name": "DescriptionStyleModel",
     "state": {
      "_model_module": "@jupyter-widgets/controls",
      "_model_module_version": "1.5.0",
      "_model_name": "DescriptionStyleModel",
      "_view_count": null,
      "_view_module": "@jupyter-widgets/base",
      "_view_module_version": "1.2.0",
      "_view_name": "StyleView",
      "description_width": ""
     }
    },
    "9c700bc72b864d3aae5a61c511cf0966": {
     "model_module": "@jupyter-widgets/controls",
     "model_module_version": "1.5.0",
     "model_name": "FloatProgressModel",
     "state": {
      "_dom_classes": [],
      "_model_module": "@jupyter-widgets/controls",
      "_model_module_version": "1.5.0",
      "_model_name": "FloatProgressModel",
      "_view_count": null,
      "_view_module": "@jupyter-widgets/controls",
      "_view_module_version": "1.5.0",
      "_view_name": "ProgressView",
      "bar_style": "success",
      "description": "",
      "description_tooltip": null,
      "layout": "IPY_MODEL_c34d64da272148b788ae48d8bfcf5e5e",
      "max": 642,
      "min": 0,
      "orientation": "horizontal",
      "style": "IPY_MODEL_16c721e5b3524b14a1897b7f0bc7a17c",
      "value": 642
     }
    },
    "a8acad3f5d1a4fe59e97962c0988243e": {
     "model_module": "@jupyter-widgets/controls",
     "model_module_version": "1.5.0",
     "model_name": "HTMLModel",
     "state": {
      "_dom_classes": [],
      "_model_module": "@jupyter-widgets/controls",
      "_model_module_version": "1.5.0",
      "_model_name": "HTMLModel",
      "_view_count": null,
      "_view_module": "@jupyter-widgets/controls",
      "_view_module_version": "1.5.0",
      "_view_name": "HTMLView",
      "description": "",
      "description_tooltip": null,
      "layout": "IPY_MODEL_31f50a71e2be498a8e44c9f42815e218",
      "placeholder": "​",
      "style": "IPY_MODEL_2b3a068f79d9452184fe4a670e7126d6",
      "value": " 642/642 [00:00&lt;00:00, 36.6kB/s]"
     }
    },
    "a934882b634e42f0a3b53889c4b2f3e8": {
     "model_module": "@jupyter-widgets/controls",
     "model_module_version": "1.5.0",
     "model_name": "HBoxModel",
     "state": {
      "_dom_classes": [],
      "_model_module": "@jupyter-widgets/controls",
      "_model_module_version": "1.5.0",
      "_model_name": "HBoxModel",
      "_view_count": null,
      "_view_module": "@jupyter-widgets/controls",
      "_view_module_version": "1.5.0",
      "_view_name": "HBoxView",
      "box_style": "",
      "children": [
       "IPY_MODEL_6302127be9ee4ffcbc24f265966d359c",
       "IPY_MODEL_2a497131f9dc44dfbf7c4d7f30b53c86",
       "IPY_MODEL_71a0d72d5e184878b8f749cdccca1b0f"
      ],
      "layout": "IPY_MODEL_e39b9a046ee84468bfd1ad45a217c491"
     }
    },
    "a9a047c4fc7f47e0b559e8a3cef40552": {
     "model_module": "@jupyter-widgets/base",
     "model_module_version": "1.2.0",
     "model_name": "LayoutModel",
     "state": {
      "_model_module": "@jupyter-widgets/base",
      "_model_module_version": "1.2.0",
      "_model_name": "LayoutModel",
      "_view_count": null,
      "_view_module": "@jupyter-widgets/base",
      "_view_module_version": "1.2.0",
      "_view_name": "LayoutView",
      "align_content": null,
      "align_items": null,
      "align_self": null,
      "border": null,
      "bottom": null,
      "display": null,
      "flex": null,
      "flex_flow": null,
      "grid_area": null,
      "grid_auto_columns": null,
      "grid_auto_flow": null,
      "grid_auto_rows": null,
      "grid_column": null,
      "grid_gap": null,
      "grid_row": null,
      "grid_template_areas": null,
      "grid_template_columns": null,
      "grid_template_rows": null,
      "height": null,
      "justify_content": null,
      "justify_items": null,
      "left": null,
      "margin": null,
      "max_height": null,
      "max_width": null,
      "min_height": null,
      "min_width": null,
      "object_fit": null,
      "object_position": null,
      "order": null,
      "overflow": null,
      "overflow_x": null,
      "overflow_y": null,
      "padding": null,
      "right": null,
      "top": null,
      "visibility": null,
      "width": null
     }
    },
    "aca06dacc5e0450388f2723ffab161bc": {
     "model_module": "@jupyter-widgets/base",
     "model_module_version": "1.2.0",
     "model_name": "LayoutModel",
     "state": {
      "_model_module": "@jupyter-widgets/base",
      "_model_module_version": "1.2.0",
      "_model_name": "LayoutModel",
      "_view_count": null,
      "_view_module": "@jupyter-widgets/base",
      "_view_module_version": "1.2.0",
      "_view_name": "LayoutView",
      "align_content": null,
      "align_items": null,
      "align_self": null,
      "border": null,
      "bottom": null,
      "display": null,
      "flex": null,
      "flex_flow": null,
      "grid_area": null,
      "grid_auto_columns": null,
      "grid_auto_flow": null,
      "grid_auto_rows": null,
      "grid_column": null,
      "grid_gap": null,
      "grid_row": null,
      "grid_template_areas": null,
      "grid_template_columns": null,
      "grid_template_rows": null,
      "height": null,
      "justify_content": null,
      "justify_items": null,
      "left": null,
      "margin": null,
      "max_height": null,
      "max_width": null,
      "min_height": null,
      "min_width": null,
      "object_fit": null,
      "object_position": null,
      "order": null,
      "overflow": null,
      "overflow_x": null,
      "overflow_y": null,
      "padding": null,
      "right": null,
      "top": null,
      "visibility": null,
      "width": null
     }
    },
    "b2c53a6472c2404680e8921994043e8f": {
     "model_module": "@jupyter-widgets/controls",
     "model_module_version": "1.5.0",
     "model_name": "HTMLModel",
     "state": {
      "_dom_classes": [],
      "_model_module": "@jupyter-widgets/controls",
      "_model_module_version": "1.5.0",
      "_model_name": "HTMLModel",
      "_view_count": null,
      "_view_module": "@jupyter-widgets/controls",
      "_view_module_version": "1.5.0",
      "_view_name": "HTMLView",
      "description": "",
      "description_tooltip": null,
      "layout": "IPY_MODEL_b83881b4fe594618bd38858bd50a8c4c",
      "placeholder": "​",
      "style": "IPY_MODEL_ee8db8074048422590b9e22b8b0ce2c1",
      "value": "Downloading (…)64d9414229/README.md: 100%"
     }
    },
    "b4f83a106a5d4443820d2327cc9b8d85": {
     "model_module": "@jupyter-widgets/controls",
     "model_module_version": "1.5.0",
     "model_name": "DescriptionStyleModel",
     "state": {
      "_model_module": "@jupyter-widgets/controls",
      "_model_module_version": "1.5.0",
      "_model_name": "DescriptionStyleModel",
      "_view_count": null,
      "_view_module": "@jupyter-widgets/base",
      "_view_module_version": "1.2.0",
      "_view_name": "StyleView",
      "description_width": ""
     }
    },
    "b7c610ff6c1b45068e13e83824ab5525": {
     "model_module": "@jupyter-widgets/base",
     "model_module_version": "1.2.0",
     "model_name": "LayoutModel",
     "state": {
      "_model_module": "@jupyter-widgets/base",
      "_model_module_version": "1.2.0",
      "_model_name": "LayoutModel",
      "_view_count": null,
      "_view_module": "@jupyter-widgets/base",
      "_view_module_version": "1.2.0",
      "_view_name": "LayoutView",
      "align_content": null,
      "align_items": null,
      "align_self": null,
      "border": null,
      "bottom": null,
      "display": null,
      "flex": null,
      "flex_flow": null,
      "grid_area": null,
      "grid_auto_columns": null,
      "grid_auto_flow": null,
      "grid_auto_rows": null,
      "grid_column": null,
      "grid_gap": null,
      "grid_row": null,
      "grid_template_areas": null,
      "grid_template_columns": null,
      "grid_template_rows": null,
      "height": null,
      "justify_content": null,
      "justify_items": null,
      "left": null,
      "margin": null,
      "max_height": null,
      "max_width": null,
      "min_height": null,
      "min_width": null,
      "object_fit": null,
      "object_position": null,
      "order": null,
      "overflow": null,
      "overflow_x": null,
      "overflow_y": null,
      "padding": null,
      "right": null,
      "top": null,
      "visibility": null,
      "width": null
     }
    },
    "b83881b4fe594618bd38858bd50a8c4c": {
     "model_module": "@jupyter-widgets/base",
     "model_module_version": "1.2.0",
     "model_name": "LayoutModel",
     "state": {
      "_model_module": "@jupyter-widgets/base",
      "_model_module_version": "1.2.0",
      "_model_name": "LayoutModel",
      "_view_count": null,
      "_view_module": "@jupyter-widgets/base",
      "_view_module_version": "1.2.0",
      "_view_name": "LayoutView",
      "align_content": null,
      "align_items": null,
      "align_self": null,
      "border": null,
      "bottom": null,
      "display": null,
      "flex": null,
      "flex_flow": null,
      "grid_area": null,
      "grid_auto_columns": null,
      "grid_auto_flow": null,
      "grid_auto_rows": null,
      "grid_column": null,
      "grid_gap": null,
      "grid_row": null,
      "grid_template_areas": null,
      "grid_template_columns": null,
      "grid_template_rows": null,
      "height": null,
      "justify_content": null,
      "justify_items": null,
      "left": null,
      "margin": null,
      "max_height": null,
      "max_width": null,
      "min_height": null,
      "min_width": null,
      "object_fit": null,
      "object_position": null,
      "order": null,
      "overflow": null,
      "overflow_x": null,
      "overflow_y": null,
      "padding": null,
      "right": null,
      "top": null,
      "visibility": null,
      "width": null
     }
    },
    "c1545874a2d04cafab346c8b8597ad01": {
     "model_module": "@jupyter-widgets/controls",
     "model_module_version": "1.5.0",
     "model_name": "ProgressStyleModel",
     "state": {
      "_model_module": "@jupyter-widgets/controls",
      "_model_module_version": "1.5.0",
      "_model_name": "ProgressStyleModel",
      "_view_count": null,
      "_view_module": "@jupyter-widgets/base",
      "_view_module_version": "1.2.0",
      "_view_name": "StyleView",
      "bar_color": null,
      "description_width": ""
     }
    },
    "c19ccbcd5f90429fb1a14f0f890a0243": {
     "model_module": "@jupyter-widgets/controls",
     "model_module_version": "1.5.0",
     "model_name": "FloatProgressModel",
     "state": {
      "_dom_classes": [],
      "_model_module": "@jupyter-widgets/controls",
      "_model_module_version": "1.5.0",
      "_model_name": "FloatProgressModel",
      "_view_count": null,
      "_view_module": "@jupyter-widgets/controls",
      "_view_module_version": "1.5.0",
      "_view_name": "ProgressView",
      "bar_style": "success",
      "description": "",
      "description_tooltip": null,
      "layout": "IPY_MODEL_7ecd0bda7cd44754b2aa84d9d69bd3de",
      "max": 112,
      "min": 0,
      "orientation": "horizontal",
      "style": "IPY_MODEL_3990dec9d08a4ac0a8a7811cc1b82c62",
      "value": 112
     }
    },
    "c34d64da272148b788ae48d8bfcf5e5e": {
     "model_module": "@jupyter-widgets/base",
     "model_module_version": "1.2.0",
     "model_name": "LayoutModel",
     "state": {
      "_model_module": "@jupyter-widgets/base",
      "_model_module_version": "1.2.0",
      "_model_name": "LayoutModel",
      "_view_count": null,
      "_view_module": "@jupyter-widgets/base",
      "_view_module_version": "1.2.0",
      "_view_name": "LayoutView",
      "align_content": null,
      "align_items": null,
      "align_self": null,
      "border": null,
      "bottom": null,
      "display": null,
      "flex": null,
      "flex_flow": null,
      "grid_area": null,
      "grid_auto_columns": null,
      "grid_auto_flow": null,
      "grid_auto_rows": null,
      "grid_column": null,
      "grid_gap": null,
      "grid_row": null,
      "grid_template_areas": null,
      "grid_template_columns": null,
      "grid_template_rows": null,
      "height": null,
      "justify_content": null,
      "justify_items": null,
      "left": null,
      "margin": null,
      "max_height": null,
      "max_width": null,
      "min_height": null,
      "min_width": null,
      "object_fit": null,
      "object_position": null,
      "order": null,
      "overflow": null,
      "overflow_x": null,
      "overflow_y": null,
      "padding": null,
      "right": null,
      "top": null,
      "visibility": null,
      "width": null
     }
    },
    "c5bd4b0a6e41446d96d1c55a8937a515": {
     "model_module": "@jupyter-widgets/controls",
     "model_module_version": "1.5.0",
     "model_name": "DescriptionStyleModel",
     "state": {
      "_model_module": "@jupyter-widgets/controls",
      "_model_module_version": "1.5.0",
      "_model_name": "DescriptionStyleModel",
      "_view_count": null,
      "_view_module": "@jupyter-widgets/base",
      "_view_module_version": "1.2.0",
      "_view_name": "StyleView",
      "description_width": ""
     }
    },
    "c7e351b0b47d4c48ad90ae935aa7aab7": {
     "model_module": "@jupyter-widgets/controls",
     "model_module_version": "1.5.0",
     "model_name": "ProgressStyleModel",
     "state": {
      "_model_module": "@jupyter-widgets/controls",
      "_model_module_version": "1.5.0",
      "_model_name": "ProgressStyleModel",
      "_view_count": null,
      "_view_module": "@jupyter-widgets/base",
      "_view_module_version": "1.2.0",
      "_view_name": "StyleView",
      "bar_color": null,
      "description_width": ""
     }
    },
    "cae35a39ad464fb4899299115641ba73": {
     "model_module": "@jupyter-widgets/controls",
     "model_module_version": "1.5.0",
     "model_name": "DescriptionStyleModel",
     "state": {
      "_model_module": "@jupyter-widgets/controls",
      "_model_module_version": "1.5.0",
      "_model_name": "DescriptionStyleModel",
      "_view_count": null,
      "_view_module": "@jupyter-widgets/base",
      "_view_module_version": "1.2.0",
      "_view_name": "StyleView",
      "description_width": ""
     }
    },
    "cf0edab4453c48d29cc6a00d12899011": {
     "model_module": "@jupyter-widgets/base",
     "model_module_version": "1.2.0",
     "model_name": "LayoutModel",
     "state": {
      "_model_module": "@jupyter-widgets/base",
      "_model_module_version": "1.2.0",
      "_model_name": "LayoutModel",
      "_view_count": null,
      "_view_module": "@jupyter-widgets/base",
      "_view_module_version": "1.2.0",
      "_view_name": "LayoutView",
      "align_content": null,
      "align_items": null,
      "align_self": null,
      "border": null,
      "bottom": null,
      "display": null,
      "flex": null,
      "flex_flow": null,
      "grid_area": null,
      "grid_auto_columns": null,
      "grid_auto_flow": null,
      "grid_auto_rows": null,
      "grid_column": null,
      "grid_gap": null,
      "grid_row": null,
      "grid_template_areas": null,
      "grid_template_columns": null,
      "grid_template_rows": null,
      "height": null,
      "justify_content": null,
      "justify_items": null,
      "left": null,
      "margin": null,
      "max_height": null,
      "max_width": null,
      "min_height": null,
      "min_width": null,
      "object_fit": null,
      "object_position": null,
      "order": null,
      "overflow": null,
      "overflow_x": null,
      "overflow_y": null,
      "padding": null,
      "right": null,
      "top": null,
      "visibility": null,
      "width": null
     }
    },
    "d3401a8aa2d54eef8868a462513dd69a": {
     "model_module": "@jupyter-widgets/controls",
     "model_module_version": "1.5.0",
     "model_name": "ProgressStyleModel",
     "state": {
      "_model_module": "@jupyter-widgets/controls",
      "_model_module_version": "1.5.0",
      "_model_name": "ProgressStyleModel",
      "_view_count": null,
      "_view_module": "@jupyter-widgets/base",
      "_view_module_version": "1.2.0",
      "_view_name": "StyleView",
      "bar_color": null,
      "description_width": ""
     }
    },
    "d4016712463c4a009e84edaf7d652973": {
     "model_module": "@jupyter-widgets/controls",
     "model_module_version": "1.5.0",
     "model_name": "FloatProgressModel",
     "state": {
      "_dom_classes": [],
      "_model_module": "@jupyter-widgets/controls",
      "_model_module_version": "1.5.0",
      "_model_name": "FloatProgressModel",
      "_view_count": null,
      "_view_module": "@jupyter-widgets/controls",
      "_view_module_version": "1.5.0",
      "_view_name": "ProgressView",
      "bar_style": "success",
      "description": "",
      "description_tooltip": null,
      "layout": "IPY_MODEL_b7c610ff6c1b45068e13e83824ab5525",
      "max": 1649718,
      "min": 0,
      "orientation": "horizontal",
      "style": "IPY_MODEL_c7e351b0b47d4c48ad90ae935aa7aab7",
      "value": 1649718
     }
    },
    "d63e564c321f4b0e8134f9213068361d": {
     "model_module": "@jupyter-widgets/controls",
     "model_module_version": "1.5.0",
     "model_name": "HBoxModel",
     "state": {
      "_dom_classes": [],
      "_model_module": "@jupyter-widgets/controls",
      "_model_module_version": "1.5.0",
      "_model_name": "HBoxModel",
      "_view_count": null,
      "_view_module": "@jupyter-widgets/controls",
      "_view_module_version": "1.5.0",
      "_view_name": "HBoxView",
      "box_style": "",
      "children": [
       "IPY_MODEL_8065e1ab10214974a308d6c6faf072e4",
       "IPY_MODEL_4341e1aa7cb74904854a0932d4759017",
       "IPY_MODEL_836ef00d7c364eb38997a3cb6d02ec60"
      ],
      "layout": "IPY_MODEL_7572d73d837f4d05a848f52f3849dda7"
     }
    },
    "e1361cd4ebcc4302b5733ee6d5b1cc2d": {
     "model_module": "@jupyter-widgets/controls",
     "model_module_version": "1.5.0",
     "model_name": "DescriptionStyleModel",
     "state": {
      "_model_module": "@jupyter-widgets/controls",
      "_model_module_version": "1.5.0",
      "_model_name": "DescriptionStyleModel",
      "_view_count": null,
      "_view_module": "@jupyter-widgets/base",
      "_view_module_version": "1.2.0",
      "_view_name": "StyleView",
      "description_width": ""
     }
    },
    "e1d3789407fd4559bc1b12f5d728c99f": {
     "model_module": "@jupyter-widgets/base",
     "model_module_version": "1.2.0",
     "model_name": "LayoutModel",
     "state": {
      "_model_module": "@jupyter-widgets/base",
      "_model_module_version": "1.2.0",
      "_model_name": "LayoutModel",
      "_view_count": null,
      "_view_module": "@jupyter-widgets/base",
      "_view_module_version": "1.2.0",
      "_view_name": "LayoutView",
      "align_content": null,
      "align_items": null,
      "align_self": null,
      "border": null,
      "bottom": null,
      "display": null,
      "flex": null,
      "flex_flow": null,
      "grid_area": null,
      "grid_auto_columns": null,
      "grid_auto_flow": null,
      "grid_auto_rows": null,
      "grid_column": null,
      "grid_gap": null,
      "grid_row": null,
      "grid_template_areas": null,
      "grid_template_columns": null,
      "grid_template_rows": null,
      "height": null,
      "justify_content": null,
      "justify_items": null,
      "left": null,
      "margin": null,
      "max_height": null,
      "max_width": null,
      "min_height": null,
      "min_width": null,
      "object_fit": null,
      "object_position": null,
      "order": null,
      "overflow": null,
      "overflow_x": null,
      "overflow_y": null,
      "padding": null,
      "right": null,
      "top": null,
      "visibility": null,
      "width": null
     }
    },
    "e39b9a046ee84468bfd1ad45a217c491": {
     "model_module": "@jupyter-widgets/base",
     "model_module_version": "1.2.0",
     "model_name": "LayoutModel",
     "state": {
      "_model_module": "@jupyter-widgets/base",
      "_model_module_version": "1.2.0",
      "_model_name": "LayoutModel",
      "_view_count": null,
      "_view_module": "@jupyter-widgets/base",
      "_view_module_version": "1.2.0",
      "_view_name": "LayoutView",
      "align_content": null,
      "align_items": null,
      "align_self": null,
      "border": null,
      "bottom": null,
      "display": null,
      "flex": null,
      "flex_flow": null,
      "grid_area": null,
      "grid_auto_columns": null,
      "grid_auto_flow": null,
      "grid_auto_rows": null,
      "grid_column": null,
      "grid_gap": null,
      "grid_row": null,
      "grid_template_areas": null,
      "grid_template_columns": null,
      "grid_template_rows": null,
      "height": null,
      "justify_content": null,
      "justify_items": null,
      "left": null,
      "margin": null,
      "max_height": null,
      "max_width": null,
      "min_height": null,
      "min_width": null,
      "object_fit": null,
      "object_position": null,
      "order": null,
      "overflow": null,
      "overflow_x": null,
      "overflow_y": null,
      "padding": null,
      "right": null,
      "top": null,
      "visibility": null,
      "width": null
     }
    },
    "e668b60dc06d458589489b75d4ee2dce": {
     "model_module": "@jupyter-widgets/controls",
     "model_module_version": "1.5.0",
     "model_name": "HTMLModel",
     "state": {
      "_dom_classes": [],
      "_model_module": "@jupyter-widgets/controls",
      "_model_module_version": "1.5.0",
      "_model_name": "HTMLModel",
      "_view_count": null,
      "_view_module": "@jupyter-widgets/controls",
      "_view_module_version": "1.5.0",
      "_view_name": "HTMLView",
      "description": "",
      "description_tooltip": null,
      "layout": "IPY_MODEL_6d7fc37497624efbb44bb80709fce3dc",
      "placeholder": "​",
      "style": "IPY_MODEL_2025ca14d46e449f9a4662a97f8e131e",
      "value": "Downloading (…)64d9414229/vocab.txt: 100%"
     }
    },
    "e7265d7fa97740be990ba182eb182286": {
     "model_module": "@jupyter-widgets/base",
     "model_module_version": "1.2.0",
     "model_name": "LayoutModel",
     "state": {
      "_model_module": "@jupyter-widgets/base",
      "_model_module_version": "1.2.0",
      "_model_name": "LayoutModel",
      "_view_count": null,
      "_view_module": "@jupyter-widgets/base",
      "_view_module_version": "1.2.0",
      "_view_name": "LayoutView",
      "align_content": null,
      "align_items": null,
      "align_self": null,
      "border": null,
      "bottom": null,
      "display": null,
      "flex": null,
      "flex_flow": null,
      "grid_area": null,
      "grid_auto_columns": null,
      "grid_auto_flow": null,
      "grid_auto_rows": null,
      "grid_column": null,
      "grid_gap": null,
      "grid_row": null,
      "grid_template_areas": null,
      "grid_template_columns": null,
      "grid_template_rows": null,
      "height": null,
      "justify_content": null,
      "justify_items": null,
      "left": null,
      "margin": null,
      "max_height": null,
      "max_width": null,
      "min_height": null,
      "min_width": null,
      "object_fit": null,
      "object_position": null,
      "order": null,
      "overflow": null,
      "overflow_x": null,
      "overflow_y": null,
      "padding": null,
      "right": null,
      "top": null,
      "visibility": null,
      "width": null
     }
    },
    "ee49caa26daa4d01b1e172ea8b946940": {
     "model_module": "@jupyter-widgets/base",
     "model_module_version": "1.2.0",
     "model_name": "LayoutModel",
     "state": {
      "_model_module": "@jupyter-widgets/base",
      "_model_module_version": "1.2.0",
      "_model_name": "LayoutModel",
      "_view_count": null,
      "_view_module": "@jupyter-widgets/base",
      "_view_module_version": "1.2.0",
      "_view_name": "LayoutView",
      "align_content": null,
      "align_items": null,
      "align_self": null,
      "border": null,
      "bottom": null,
      "display": null,
      "flex": null,
      "flex_flow": null,
      "grid_area": null,
      "grid_auto_columns": null,
      "grid_auto_flow": null,
      "grid_auto_rows": null,
      "grid_column": null,
      "grid_gap": null,
      "grid_row": null,
      "grid_template_areas": null,
      "grid_template_columns": null,
      "grid_template_rows": null,
      "height": null,
      "justify_content": null,
      "justify_items": null,
      "left": null,
      "margin": null,
      "max_height": null,
      "max_width": null,
      "min_height": null,
      "min_width": null,
      "object_fit": null,
      "object_position": null,
      "order": null,
      "overflow": null,
      "overflow_x": null,
      "overflow_y": null,
      "padding": null,
      "right": null,
      "top": null,
      "visibility": null,
      "width": null
     }
    },
    "ee8db8074048422590b9e22b8b0ce2c1": {
     "model_module": "@jupyter-widgets/controls",
     "model_module_version": "1.5.0",
     "model_name": "DescriptionStyleModel",
     "state": {
      "_model_module": "@jupyter-widgets/controls",
      "_model_module_version": "1.5.0",
      "_model_name": "DescriptionStyleModel",
      "_view_count": null,
      "_view_module": "@jupyter-widgets/base",
      "_view_module_version": "1.2.0",
      "_view_name": "StyleView",
      "description_width": ""
     }
    },
    "f2eb8bb336a04812ba56c9fcb1b9b2c9": {
     "model_module": "@jupyter-widgets/controls",
     "model_module_version": "1.5.0",
     "model_name": "HTMLModel",
     "state": {
      "_dom_classes": [],
      "_model_module": "@jupyter-widgets/controls",
      "_model_module_version": "1.5.0",
      "_model_name": "HTMLModel",
      "_view_count": null,
      "_view_module": "@jupyter-widgets/controls",
      "_view_module_version": "1.5.0",
      "_view_name": "HTMLView",
      "description": "",
      "description_tooltip": null,
      "layout": "IPY_MODEL_330b9a991a354525a237293657e0e982",
      "placeholder": "​",
      "style": "IPY_MODEL_cae35a39ad464fb4899299115641ba73",
      "value": "Downloading (…)cial_tokens_map.json: 100%"
     }
    },
    "f3a7e9e4ca57425fa648f7fd7f4a829d": {
     "model_module": "@jupyter-widgets/base",
     "model_module_version": "1.2.0",
     "model_name": "LayoutModel",
     "state": {
      "_model_module": "@jupyter-widgets/base",
      "_model_module_version": "1.2.0",
      "_model_name": "LayoutModel",
      "_view_count": null,
      "_view_module": "@jupyter-widgets/base",
      "_view_module_version": "1.2.0",
      "_view_name": "LayoutView",
      "align_content": null,
      "align_items": null,
      "align_self": null,
      "border": null,
      "bottom": null,
      "display": null,
      "flex": null,
      "flex_flow": null,
      "grid_area": null,
      "grid_auto_columns": null,
      "grid_auto_flow": null,
      "grid_auto_rows": null,
      "grid_column": null,
      "grid_gap": null,
      "grid_row": null,
      "grid_template_areas": null,
      "grid_template_columns": null,
      "grid_template_rows": null,
      "height": null,
      "justify_content": null,
      "justify_items": null,
      "left": null,
      "margin": null,
      "max_height": null,
      "max_width": null,
      "min_height": null,
      "min_width": null,
      "object_fit": null,
      "object_position": null,
      "order": null,
      "overflow": null,
      "overflow_x": null,
      "overflow_y": null,
      "padding": null,
      "right": null,
      "top": null,
      "visibility": null,
      "width": null
     }
    },
    "f89cf4a5fba642a5aaac06789e947d36": {
     "model_module": "@jupyter-widgets/base",
     "model_module_version": "1.2.0",
     "model_name": "LayoutModel",
     "state": {
      "_model_module": "@jupyter-widgets/base",
      "_model_module_version": "1.2.0",
      "_model_name": "LayoutModel",
      "_view_count": null,
      "_view_module": "@jupyter-widgets/base",
      "_view_module_version": "1.2.0",
      "_view_name": "LayoutView",
      "align_content": null,
      "align_items": null,
      "align_self": null,
      "border": null,
      "bottom": null,
      "display": null,
      "flex": null,
      "flex_flow": null,
      "grid_area": null,
      "grid_auto_columns": null,
      "grid_auto_flow": null,
      "grid_auto_rows": null,
      "grid_column": null,
      "grid_gap": null,
      "grid_row": null,
      "grid_template_areas": null,
      "grid_template_columns": null,
      "grid_template_rows": null,
      "height": null,
      "justify_content": null,
      "justify_items": null,
      "left": null,
      "margin": null,
      "max_height": null,
      "max_width": null,
      "min_height": null,
      "min_width": null,
      "object_fit": null,
      "object_position": null,
      "order": null,
      "overflow": null,
      "overflow_x": null,
      "overflow_y": null,
      "padding": null,
      "right": null,
      "top": null,
      "visibility": null,
      "width": null
     }
    },
    "fcb5571e971744cdbfe7f649e785e8c4": {
     "model_module": "@jupyter-widgets/controls",
     "model_module_version": "1.5.0",
     "model_name": "DescriptionStyleModel",
     "state": {
      "_model_module": "@jupyter-widgets/controls",
      "_model_module_version": "1.5.0",
      "_model_name": "DescriptionStyleModel",
      "_view_count": null,
      "_view_module": "@jupyter-widgets/base",
      "_view_module_version": "1.2.0",
      "_view_name": "StyleView",
      "description_width": ""
     }
    }
   }
  }
 },
 "nbformat": 4,
 "nbformat_minor": 4
}
